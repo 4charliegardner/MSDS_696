{
 "cells": [
  {
   "cell_type": "markdown",
   "id": "d13e9712-8e24-4954-9f3b-e01059a75051",
   "metadata": {},
   "source": [
    "# Modelling Improved Donor Segmentation \n",
    "#### Charles Gardner \n",
    "#### MSDS 696 - Data Science Practicum II"
   ]
  },
  {
   "cell_type": "markdown",
   "id": "fbabd234-771d-40dc-8a3f-20c05931083c",
   "metadata": {
    "tags": []
   },
   "source": [
    "## Importing libraries and data"
   ]
  },
  {
   "cell_type": "code",
   "execution_count": 1,
   "id": "30277b51-e9c1-4173-b9eb-dc07c106ce0e",
   "metadata": {},
   "outputs": [
    {
     "name": "stderr",
     "output_type": "stream",
     "text": [
      "G:\\Python\\anaconda3\\lib\\site-packages\\numpy\\_distributor_init.py:30: UserWarning: loaded more than 1 DLL from .libs:\n",
      "G:\\Python\\anaconda3\\lib\\site-packages\\numpy\\.libs\\libopenblas.EL2C6PLE4ZYW3ECEVIV3OXXGRN2NRFM2.gfortran-win_amd64.dll\n",
      "G:\\Python\\anaconda3\\lib\\site-packages\\numpy\\.libs\\libopenblas.XWYDX2IKJW2NMTWSFYNGFUWKQU3LYTCZ.gfortran-win_amd64.dll\n",
      "  warnings.warn(\"loaded more than 1 DLL from .libs:\"\n"
     ]
    }
   ],
   "source": [
    "# data analysis and wrangling\n",
    "import pandas as pd\n",
    "import numpy as np\n",
    "import random as rnd\n",
    "import re\n",
    "from datetime import datetime, timedelta\n",
    "import warnings\n",
    "warnings.filterwarnings(\"ignore\")"
   ]
  },
  {
   "cell_type": "code",
   "execution_count": 85,
   "id": "2729e214-bfc7-435a-84e8-32105f02997b",
   "metadata": {},
   "outputs": [],
   "source": [
    "# sklearn\n",
    "from sklearn import preprocessing\n",
    "from sklearn.preprocessing import MinMaxScaler\n",
    "from sklearn.preprocessing import LabelEncoder\n",
    "from sklearn.preprocessing import StandardScaler\n",
    "from sklearn.linear_model import LogisticRegression\n",
    "from sklearn.cluster import KMeans\n",
    "from sklearn.neighbors import KNeighborsClassifier\n",
    "from sklearn.neighbors import KNeighborsRegressor\n",
    "from sklearn.neural_network import MLPClassifier  \n",
    "from sklearn.decomposition import PCA\n",
    "from sklearn.pipeline import Pipeline\n",
    "from sklearn.model_selection import train_test_split\n",
    "from sklearn.metrics import accuracy_score\n",
    "from sklearn.metrics import classification_report\n",
    "from sklearn.metrics import explained_variance_score\n",
    "from sklearn.metrics import r2_score\n",
    "from sklearn.metrics import confusion_matrix\n",
    "\n",
    "# plotting\n",
    "import matplotlib.pyplot as plt\n",
    "import seaborn as sns "
   ]
  },
  {
   "cell_type": "code",
   "execution_count": 3,
   "id": "6449b5cc-1d62-4870-991d-5dae1723cc6b",
   "metadata": {},
   "outputs": [
    {
     "name": "stdout",
     "output_type": "stream",
     "text": [
      "<class 'pandas.core.frame.DataFrame'>\n",
      "RangeIndex: 15613 entries, 0 to 15612\n",
      "Data columns (total 44 columns):\n",
      " #   Column                           Non-Null Count  Dtype  \n",
      "---  ------                           --------------  -----  \n",
      " 0   Constituent ID                   15613 non-null  object \n",
      " 1   Constituent type                 15613 non-null  object \n",
      " 2   Constituent codes                5367 non-null   object \n",
      " 3   Lifetime giving                  15613 non-null  float64\n",
      " 4   First gift amount                15611 non-null  float64\n",
      " 5   First gift type                  15611 non-null  object \n",
      " 6   First gift date                  15611 non-null  object \n",
      " 7   Latest gift amount               15611 non-null  float64\n",
      " 8   Latest gift type                 15611 non-null  object \n",
      " 9   Latest gift date                 15611 non-null  object \n",
      " 10  Greatest gift amount             15611 non-null  float64\n",
      " 11  Greatest gift type               15611 non-null  object \n",
      " 12  Greatest gift date               15611 non-null  object \n",
      " 13  Prospect status                  176 non-null    object \n",
      " 14  Last action category             2483 non-null   object \n",
      " 15  Last action date                 2483 non-null   object \n",
      " 16  Prospect classification          119 non-null    object \n",
      " 17  Gender                           13191 non-null  object \n",
      " 18  Spouse                           15613 non-null  int64  \n",
      " 19  Tags                             14825 non-null  object \n",
      " 20  BPI - Bass Society               62 non-null     float64\n",
      " 21  Committee, WSF Board+            66 non-null     float64\n",
      " 22  Committee, WSF-Driven            275 non-null    object \n",
      " 23  Committees, Outside              102 non-null    float64\n",
      " 24  Community Groups                 224 non-null    object \n",
      " 25  Events, BPI                      303 non-null    object \n",
      " 26  Events, Community Conversations  103 non-null    object \n",
      " 27  Events, Donor                    961 non-null    object \n",
      " 28  Events, PA                       197 non-null    object \n",
      " 29  Events, Prospect                 415 non-null    object \n",
      " 30  Events, Sponsor                  254 non-null    object \n",
      " 31  Events, Volunteer                54 non-null     object \n",
      " 32  Events, Womens Fund              29 non-null     object \n",
      " 33  Events, WSF                      165 non-null    object \n",
      " 34  Legacy                           15613 non-null  int64  \n",
      " 35  Original Building Donor - 2014   9 non-null      float64\n",
      " 36  Stewardship Letters              106 non-null    float64\n",
      " 37  Tax Status                       305 non-null    object \n",
      " 38  Echo Award                       115 non-null    float64\n",
      " 39  Date added                       15613 non-null  object \n",
      " 40  Solicit codes                    524 non-null    object \n",
      " 41  Professional Advisors            244 non-null    float64\n",
      " 42  Prospect Type                    731 non-null    object \n",
      " 43  Transformational Donor           23 non-null     float64\n",
      "dtypes: float64(12), int64(2), object(30)\n",
      "memory usage: 5.2+ MB\n"
     ]
    }
   ],
   "source": [
    "# Upload data on individual consituents\n",
    "constituents = pd.read_csv(\"Constituents.csv\") \n",
    "constituents.info()"
   ]
  },
  {
   "cell_type": "code",
   "execution_count": 6,
   "id": "944797b7-a0fc-4a1e-86e7-299a084ffd49",
   "metadata": {},
   "outputs": [
    {
     "name": "stdout",
     "output_type": "stream",
     "text": [
      "<class 'pandas.core.frame.DataFrame'>\n",
      "RangeIndex: 3767 entries, 0 to 3766\n",
      "Data columns (total 2 columns):\n",
      " #   Column          Non-Null Count  Dtype \n",
      "---  ------          --------------  ----- \n",
      " 0   Constituent ID  3767 non-null   object\n",
      " 1   Gift Count      3767 non-null   int64 \n",
      "dtypes: int64(1), object(1)\n",
      "memory usage: 59.0+ KB\n"
     ]
    }
   ],
   "source": [
    "# Upload pivot chart with the gift count\n",
    "giftcount = pd.read_csv(\"Count of Gifts.csv\")\n",
    "giftcount.info()"
   ]
  },
  {
   "cell_type": "markdown",
   "id": "7bafba48-de3a-4f61-9520-72b85169f486",
   "metadata": {},
   "source": [
    "## Combine different data from different databases"
   ]
  },
  {
   "cell_type": "code",
   "execution_count": 97,
   "id": "c0a96507-5fbc-4331-9ee3-24d46dcb2cfe",
   "metadata": {},
   "outputs": [
    {
     "name": "stdout",
     "output_type": "stream",
     "text": [
      "<class 'pandas.core.frame.DataFrame'>\n",
      "Int64Index: 15613 entries, 0 to 15612\n",
      "Data columns (total 45 columns):\n",
      " #   Column                           Non-Null Count  Dtype  \n",
      "---  ------                           --------------  -----  \n",
      " 0   Constituent ID                   15613 non-null  object \n",
      " 1   Constituent type                 15613 non-null  object \n",
      " 2   Constituent codes                5367 non-null   object \n",
      " 3   Lifetime giving                  15613 non-null  float64\n",
      " 4   First gift amount                15611 non-null  float64\n",
      " 5   First gift type                  15611 non-null  object \n",
      " 6   First gift date                  15611 non-null  object \n",
      " 7   Latest gift amount               15611 non-null  float64\n",
      " 8   Latest gift type                 15611 non-null  object \n",
      " 9   Latest gift date                 15611 non-null  object \n",
      " 10  Greatest gift amount             15611 non-null  float64\n",
      " 11  Greatest gift type               15611 non-null  object \n",
      " 12  Greatest gift date               15611 non-null  object \n",
      " 13  Prospect status                  176 non-null    object \n",
      " 14  Last action category             2483 non-null   object \n",
      " 15  Last action date                 2483 non-null   object \n",
      " 16  Prospect classification          119 non-null    object \n",
      " 17  Gender                           13191 non-null  object \n",
      " 18  Spouse                           15613 non-null  int64  \n",
      " 19  Tags                             14825 non-null  object \n",
      " 20  BPI - Bass Society               62 non-null     float64\n",
      " 21  Committee, WSF Board+            66 non-null     float64\n",
      " 22  Committee, WSF-Driven            275 non-null    object \n",
      " 23  Committees, Outside              102 non-null    float64\n",
      " 24  Community Groups                 224 non-null    object \n",
      " 25  Events, BPI                      303 non-null    object \n",
      " 26  Events, Community Conversations  103 non-null    object \n",
      " 27  Events, Donor                    961 non-null    object \n",
      " 28  Events, PA                       197 non-null    object \n",
      " 29  Events, Prospect                 415 non-null    object \n",
      " 30  Events, Sponsor                  254 non-null    object \n",
      " 31  Events, Volunteer                54 non-null     object \n",
      " 32  Events, Womens Fund              29 non-null     object \n",
      " 33  Events, WSF                      165 non-null    object \n",
      " 34  Legacy                           15613 non-null  int64  \n",
      " 35  Original Building Donor - 2014   9 non-null      float64\n",
      " 36  Stewardship Letters              106 non-null    float64\n",
      " 37  Tax Status                       305 non-null    object \n",
      " 38  Echo Award                       115 non-null    float64\n",
      " 39  Date added                       15613 non-null  object \n",
      " 40  Solicit codes                    524 non-null    object \n",
      " 41  Professional Advisors            244 non-null    float64\n",
      " 42  Prospect Type                    731 non-null    object \n",
      " 43  Transformational Donor           23 non-null     float64\n",
      " 44  Gift Count                       3930 non-null   float64\n",
      "dtypes: float64(13), int64(2), object(30)\n",
      "memory usage: 5.5+ MB\n"
     ]
    }
   ],
   "source": [
    "#Add the Count of Gift column to dataframe\n",
    "combined = pd.merge(constituents, giftcount, on=\"Constituent ID\", how=\"left\")\n",
    "combined.info()"
   ]
  },
  {
   "cell_type": "markdown",
   "id": "85f8222f-527a-45f4-949f-5fc24adff62c",
   "metadata": {},
   "source": [
    "## Feature Engineering"
   ]
  },
  {
   "cell_type": "markdown",
   "id": "b97b8d60-9c8e-463d-a7a0-53131bcc59d8",
   "metadata": {},
   "source": [
    "### Merge the several columns of events into a single one"
   ]
  },
  {
   "cell_type": "code",
   "execution_count": 98,
   "id": "fa94c66e-2b68-450e-ab2c-d3034baea64d",
   "metadata": {},
   "outputs": [],
   "source": [
    "#Iterate through columns that will separate values at ';' and then return dummy variables\n",
    "\n",
    "col = ['Events, BPI', 'Events, Community Conversations', 'Events, Donor', 'Events, PA', 'Events, Prospect', 'Events, Sponsor', 'Events, Volunteer', 'Events, Womens Fund', 'Events, WSF']\n",
    "list_dfs = []\n",
    "\n",
    "for i in combined[col]:\n",
    "    list_dfs.append(combined[i].str.replace(r\"\\([^()]*\\)\", \";\").str.get_dummies(sep=';'))\n",
    "    events = pd.concat(list_dfs, axis=1)   \n",
    "\n",
    "#display(events)"
   ]
  },
  {
   "cell_type": "code",
   "execution_count": 99,
   "id": "94a75676-a19c-457d-8ce9-c6d410d45dc3",
   "metadata": {},
   "outputs": [
    {
     "data": {
      "text/html": [
       "<div>\n",
       "<style scoped>\n",
       "    .dataframe tbody tr th:only-of-type {\n",
       "        vertical-align: middle;\n",
       "    }\n",
       "\n",
       "    .dataframe tbody tr th {\n",
       "        vertical-align: top;\n",
       "    }\n",
       "\n",
       "    .dataframe thead th {\n",
       "        text-align: right;\n",
       "    }\n",
       "</style>\n",
       "<table border=\"1\" class=\"dataframe\">\n",
       "  <thead>\n",
       "    <tr style=\"text-align: right;\">\n",
       "      <th></th>\n",
       "      <th></th>\n",
       "      <th>2005 Kickoff</th>\n",
       "      <th>2006 Carson luncheon</th>\n",
       "      <th>2006 Charitable giving seminar</th>\n",
       "      <th>2006 E. Carson Lecture</th>\n",
       "      <th>2006 Pastor lunch May</th>\n",
       "      <th>2008 Grant Recipient</th>\n",
       "      <th>2009 Appeal</th>\n",
       "      <th>2009 Weston event attendees</th>\n",
       "      <th>2010 Grant Award Breakfast</th>\n",
       "      <th>...</th>\n",
       "      <th>Women's Fund-2016 Fund Do Party Building Innovation</th>\n",
       "      <th>Women's Fund-2016 Fund Do Party Donation</th>\n",
       "      <th>Women's Fund-2017 Fund Do Party Launching Innovation</th>\n",
       "      <th>Women's Fund-2017 Fund Do Party Sparkling Innovation</th>\n",
       "      <th>2016 Holiday Volunteer Event</th>\n",
       "      <th>2017 Fund Do Party</th>\n",
       "      <th>Conversation with LaTida Smith</th>\n",
       "      <th>Jazz on the Rooftop</th>\n",
       "      <th>WSF Committee Dinner</th>\n",
       "      <th>total</th>\n",
       "    </tr>\n",
       "  </thead>\n",
       "  <tbody>\n",
       "    <tr>\n",
       "      <th>count</th>\n",
       "      <td>15613.000000</td>\n",
       "      <td>15613.000000</td>\n",
       "      <td>15613.000000</td>\n",
       "      <td>15613.000000</td>\n",
       "      <td>15613.000000</td>\n",
       "      <td>15613.000000</td>\n",
       "      <td>15613.000000</td>\n",
       "      <td>15613.000000</td>\n",
       "      <td>15613.000000</td>\n",
       "      <td>15613.000000</td>\n",
       "      <td>...</td>\n",
       "      <td>15613.000000</td>\n",
       "      <td>15613.000000</td>\n",
       "      <td>15613.000000</td>\n",
       "      <td>15613.000000</td>\n",
       "      <td>15613.000000</td>\n",
       "      <td>15613.000000</td>\n",
       "      <td>15613.000000</td>\n",
       "      <td>15613.000000</td>\n",
       "      <td>15613.000000</td>\n",
       "      <td>15613.000000</td>\n",
       "    </tr>\n",
       "    <tr>\n",
       "      <th>mean</th>\n",
       "      <td>0.000448</td>\n",
       "      <td>0.001153</td>\n",
       "      <td>0.000512</td>\n",
       "      <td>0.000705</td>\n",
       "      <td>0.003907</td>\n",
       "      <td>0.000192</td>\n",
       "      <td>0.000256</td>\n",
       "      <td>0.002370</td>\n",
       "      <td>0.001857</td>\n",
       "      <td>0.000256</td>\n",
       "      <td>...</td>\n",
       "      <td>0.000064</td>\n",
       "      <td>0.000320</td>\n",
       "      <td>0.000064</td>\n",
       "      <td>0.000256</td>\n",
       "      <td>0.003459</td>\n",
       "      <td>0.001857</td>\n",
       "      <td>0.002242</td>\n",
       "      <td>0.005957</td>\n",
       "      <td>0.003267</td>\n",
       "      <td>0.389099</td>\n",
       "    </tr>\n",
       "    <tr>\n",
       "      <th>std</th>\n",
       "      <td>0.021170</td>\n",
       "      <td>0.033936</td>\n",
       "      <td>0.022631</td>\n",
       "      <td>0.026535</td>\n",
       "      <td>0.062386</td>\n",
       "      <td>0.013861</td>\n",
       "      <td>0.016005</td>\n",
       "      <td>0.048625</td>\n",
       "      <td>0.043059</td>\n",
       "      <td>0.016005</td>\n",
       "      <td>...</td>\n",
       "      <td>0.008003</td>\n",
       "      <td>0.017893</td>\n",
       "      <td>0.008003</td>\n",
       "      <td>0.016005</td>\n",
       "      <td>0.058710</td>\n",
       "      <td>0.043059</td>\n",
       "      <td>0.047295</td>\n",
       "      <td>0.076951</td>\n",
       "      <td>0.057062</td>\n",
       "      <td>1.684643</td>\n",
       "    </tr>\n",
       "    <tr>\n",
       "      <th>min</th>\n",
       "      <td>0.000000</td>\n",
       "      <td>0.000000</td>\n",
       "      <td>0.000000</td>\n",
       "      <td>0.000000</td>\n",
       "      <td>0.000000</td>\n",
       "      <td>0.000000</td>\n",
       "      <td>0.000000</td>\n",
       "      <td>0.000000</td>\n",
       "      <td>0.000000</td>\n",
       "      <td>0.000000</td>\n",
       "      <td>...</td>\n",
       "      <td>0.000000</td>\n",
       "      <td>0.000000</td>\n",
       "      <td>0.000000</td>\n",
       "      <td>0.000000</td>\n",
       "      <td>0.000000</td>\n",
       "      <td>0.000000</td>\n",
       "      <td>0.000000</td>\n",
       "      <td>0.000000</td>\n",
       "      <td>0.000000</td>\n",
       "      <td>0.000000</td>\n",
       "    </tr>\n",
       "    <tr>\n",
       "      <th>25%</th>\n",
       "      <td>0.000000</td>\n",
       "      <td>0.000000</td>\n",
       "      <td>0.000000</td>\n",
       "      <td>0.000000</td>\n",
       "      <td>0.000000</td>\n",
       "      <td>0.000000</td>\n",
       "      <td>0.000000</td>\n",
       "      <td>0.000000</td>\n",
       "      <td>0.000000</td>\n",
       "      <td>0.000000</td>\n",
       "      <td>...</td>\n",
       "      <td>0.000000</td>\n",
       "      <td>0.000000</td>\n",
       "      <td>0.000000</td>\n",
       "      <td>0.000000</td>\n",
       "      <td>0.000000</td>\n",
       "      <td>0.000000</td>\n",
       "      <td>0.000000</td>\n",
       "      <td>0.000000</td>\n",
       "      <td>0.000000</td>\n",
       "      <td>0.000000</td>\n",
       "    </tr>\n",
       "    <tr>\n",
       "      <th>50%</th>\n",
       "      <td>0.000000</td>\n",
       "      <td>0.000000</td>\n",
       "      <td>0.000000</td>\n",
       "      <td>0.000000</td>\n",
       "      <td>0.000000</td>\n",
       "      <td>0.000000</td>\n",
       "      <td>0.000000</td>\n",
       "      <td>0.000000</td>\n",
       "      <td>0.000000</td>\n",
       "      <td>0.000000</td>\n",
       "      <td>...</td>\n",
       "      <td>0.000000</td>\n",
       "      <td>0.000000</td>\n",
       "      <td>0.000000</td>\n",
       "      <td>0.000000</td>\n",
       "      <td>0.000000</td>\n",
       "      <td>0.000000</td>\n",
       "      <td>0.000000</td>\n",
       "      <td>0.000000</td>\n",
       "      <td>0.000000</td>\n",
       "      <td>0.000000</td>\n",
       "    </tr>\n",
       "    <tr>\n",
       "      <th>75%</th>\n",
       "      <td>0.000000</td>\n",
       "      <td>0.000000</td>\n",
       "      <td>0.000000</td>\n",
       "      <td>0.000000</td>\n",
       "      <td>0.000000</td>\n",
       "      <td>0.000000</td>\n",
       "      <td>0.000000</td>\n",
       "      <td>0.000000</td>\n",
       "      <td>0.000000</td>\n",
       "      <td>0.000000</td>\n",
       "      <td>...</td>\n",
       "      <td>0.000000</td>\n",
       "      <td>0.000000</td>\n",
       "      <td>0.000000</td>\n",
       "      <td>0.000000</td>\n",
       "      <td>0.000000</td>\n",
       "      <td>0.000000</td>\n",
       "      <td>0.000000</td>\n",
       "      <td>0.000000</td>\n",
       "      <td>0.000000</td>\n",
       "      <td>0.000000</td>\n",
       "    </tr>\n",
       "    <tr>\n",
       "      <th>max</th>\n",
       "      <td>1.000000</td>\n",
       "      <td>1.000000</td>\n",
       "      <td>1.000000</td>\n",
       "      <td>1.000000</td>\n",
       "      <td>1.000000</td>\n",
       "      <td>1.000000</td>\n",
       "      <td>1.000000</td>\n",
       "      <td>1.000000</td>\n",
       "      <td>1.000000</td>\n",
       "      <td>1.000000</td>\n",
       "      <td>...</td>\n",
       "      <td>1.000000</td>\n",
       "      <td>1.000000</td>\n",
       "      <td>1.000000</td>\n",
       "      <td>1.000000</td>\n",
       "      <td>1.000000</td>\n",
       "      <td>1.000000</td>\n",
       "      <td>1.000000</td>\n",
       "      <td>1.000000</td>\n",
       "      <td>1.000000</td>\n",
       "      <td>29.000000</td>\n",
       "    </tr>\n",
       "  </tbody>\n",
       "</table>\n",
       "<p>8 rows × 180 columns</p>\n",
       "</div>"
      ],
      "text/plain": [
       "                     2005 Kickoff   2006 Carson luncheon   \\\n",
       "count  15613.000000   15613.000000           15613.000000   \n",
       "mean       0.000448       0.001153               0.000512   \n",
       "std        0.021170       0.033936               0.022631   \n",
       "min        0.000000       0.000000               0.000000   \n",
       "25%        0.000000       0.000000               0.000000   \n",
       "50%        0.000000       0.000000               0.000000   \n",
       "75%        0.000000       0.000000               0.000000   \n",
       "max        1.000000       1.000000               1.000000   \n",
       "\n",
       "       2006 Charitable giving seminar   2006 E. Carson Lecture   \\\n",
       "count                     15613.000000             15613.000000   \n",
       "mean                          0.000705                 0.003907   \n",
       "std                           0.026535                 0.062386   \n",
       "min                           0.000000                 0.000000   \n",
       "25%                           0.000000                 0.000000   \n",
       "50%                           0.000000                 0.000000   \n",
       "75%                           0.000000                 0.000000   \n",
       "max                           1.000000                 1.000000   \n",
       "\n",
       "       2006 Pastor lunch May   2008 Grant Recipient   2009 Appeal   \\\n",
       "count            15613.000000           15613.000000  15613.000000   \n",
       "mean                 0.000192               0.000256      0.002370   \n",
       "std                  0.013861               0.016005      0.048625   \n",
       "min                  0.000000               0.000000      0.000000   \n",
       "25%                  0.000000               0.000000      0.000000   \n",
       "50%                  0.000000               0.000000      0.000000   \n",
       "75%                  0.000000               0.000000      0.000000   \n",
       "max                  1.000000               1.000000      1.000000   \n",
       "\n",
       "       2009 Weston event attendees   2010 Grant Award Breakfast   ...  \\\n",
       "count                  15613.000000                 15613.000000  ...   \n",
       "mean                       0.001857                     0.000256  ...   \n",
       "std                        0.043059                     0.016005  ...   \n",
       "min                        0.000000                     0.000000  ...   \n",
       "25%                        0.000000                     0.000000  ...   \n",
       "50%                        0.000000                     0.000000  ...   \n",
       "75%                        0.000000                     0.000000  ...   \n",
       "max                        1.000000                     1.000000  ...   \n",
       "\n",
       "       Women's Fund-2016 Fund Do Party Building Innovation   \\\n",
       "count                                       15613.000000      \n",
       "mean                                            0.000064      \n",
       "std                                             0.008003      \n",
       "min                                             0.000000      \n",
       "25%                                             0.000000      \n",
       "50%                                             0.000000      \n",
       "75%                                             0.000000      \n",
       "max                                             1.000000      \n",
       "\n",
       "       Women's Fund-2016 Fund Do Party Donation   \\\n",
       "count                               15613.000000   \n",
       "mean                                    0.000320   \n",
       "std                                     0.017893   \n",
       "min                                     0.000000   \n",
       "25%                                     0.000000   \n",
       "50%                                     0.000000   \n",
       "75%                                     0.000000   \n",
       "max                                     1.000000   \n",
       "\n",
       "       Women's Fund-2017 Fund Do Party Launching Innovation   \\\n",
       "count                                       15613.000000       \n",
       "mean                                            0.000064       \n",
       "std                                             0.008003       \n",
       "min                                             0.000000       \n",
       "25%                                             0.000000       \n",
       "50%                                             0.000000       \n",
       "75%                                             0.000000       \n",
       "max                                             1.000000       \n",
       "\n",
       "       Women's Fund-2017 Fund Do Party Sparkling Innovation   \\\n",
       "count                                       15613.000000       \n",
       "mean                                            0.000256       \n",
       "std                                             0.016005       \n",
       "min                                             0.000000       \n",
       "25%                                             0.000000       \n",
       "50%                                             0.000000       \n",
       "75%                                             0.000000       \n",
       "max                                             1.000000       \n",
       "\n",
       "       2016 Holiday Volunteer Event   2017 Fund Do Party   \\\n",
       "count                   15613.000000         15613.000000   \n",
       "mean                        0.003459             0.001857   \n",
       "std                         0.058710             0.043059   \n",
       "min                         0.000000             0.000000   \n",
       "25%                         0.000000             0.000000   \n",
       "50%                         0.000000             0.000000   \n",
       "75%                         0.000000             0.000000   \n",
       "max                         1.000000             1.000000   \n",
       "\n",
       "       Conversation with LaTida Smith   Jazz on the Rooftop   \\\n",
       "count                     15613.000000          15613.000000   \n",
       "mean                          0.002242              0.005957   \n",
       "std                           0.047295              0.076951   \n",
       "min                           0.000000              0.000000   \n",
       "25%                           0.000000              0.000000   \n",
       "50%                           0.000000              0.000000   \n",
       "75%                           0.000000              0.000000   \n",
       "max                           1.000000              1.000000   \n",
       "\n",
       "       WSF Committee Dinner          total  \n",
       "count           15613.000000  15613.000000  \n",
       "mean                0.003267      0.389099  \n",
       "std                 0.057062      1.684643  \n",
       "min                 0.000000      0.000000  \n",
       "25%                 0.000000      0.000000  \n",
       "50%                 0.000000      0.000000  \n",
       "75%                 0.000000      0.000000  \n",
       "max                 1.000000     29.000000  \n",
       "\n",
       "[8 rows x 180 columns]"
      ]
     },
     "execution_count": 99,
     "metadata": {},
     "output_type": "execute_result"
    }
   ],
   "source": [
    "# Sum each of the rows to create new column with total\n",
    "events['total'] = events.sum(axis=1)\n",
    "events.describe()"
   ]
  },
  {
   "cell_type": "code",
   "execution_count": 100,
   "id": "cb2f4647-fb4b-4a45-94b1-fd548a29ee7b",
   "metadata": {
    "tags": []
   },
   "outputs": [
    {
     "name": "stdout",
     "output_type": "stream",
     "text": [
      "<class 'pandas.core.frame.DataFrame'>\n",
      "Int64Index: 15613 entries, 0 to 15612\n",
      "Data columns (total 37 columns):\n",
      " #   Column                          Non-Null Count  Dtype  \n",
      "---  ------                          --------------  -----  \n",
      " 0   Constituent ID                  15613 non-null  object \n",
      " 1   Constituent type                15613 non-null  object \n",
      " 2   Constituent codes               5367 non-null   object \n",
      " 3   Lifetime giving                 15613 non-null  float64\n",
      " 4   First gift amount               15611 non-null  float64\n",
      " 5   First gift type                 15611 non-null  object \n",
      " 6   First gift date                 15611 non-null  object \n",
      " 7   Latest gift amount              15611 non-null  float64\n",
      " 8   Latest gift type                15611 non-null  object \n",
      " 9   Latest gift date                15611 non-null  object \n",
      " 10  Greatest gift amount            15611 non-null  float64\n",
      " 11  Greatest gift type              15611 non-null  object \n",
      " 12  Greatest gift date              15611 non-null  object \n",
      " 13  Prospect status                 176 non-null    object \n",
      " 14  Last action category            2483 non-null   object \n",
      " 15  Last action date                2483 non-null   object \n",
      " 16  Prospect classification         119 non-null    object \n",
      " 17  Gender                          13191 non-null  object \n",
      " 18  Spouse                          15613 non-null  int64  \n",
      " 19  Tags                            14825 non-null  object \n",
      " 20  BPI - Bass Society              62 non-null     float64\n",
      " 21  Committee, WSF Board+           66 non-null     float64\n",
      " 22  Committee, WSF-Driven           275 non-null    object \n",
      " 23  Committees, Outside             102 non-null    float64\n",
      " 24  Community Groups                224 non-null    object \n",
      " 25  Legacy                          15613 non-null  int64  \n",
      " 26  Original Building Donor - 2014  9 non-null      float64\n",
      " 27  Stewardship Letters             106 non-null    float64\n",
      " 28  Tax Status                      305 non-null    object \n",
      " 29  Echo Award                      115 non-null    float64\n",
      " 30  Date added                      15613 non-null  object \n",
      " 31  Solicit codes                   524 non-null    object \n",
      " 32  Professional Advisors           244 non-null    float64\n",
      " 33  Prospect Type                   731 non-null    object \n",
      " 34  Transformational Donor          23 non-null     float64\n",
      " 35  Gift Count                      3930 non-null   float64\n",
      " 36  Events Total                    15613 non-null  int64  \n",
      "dtypes: float64(13), int64(3), object(21)\n",
      "memory usage: 4.5+ MB\n"
     ]
    }
   ],
   "source": [
    "#Add events total as a new column at the end of primary dataframe\n",
    "combined['Events Total'] = events['total']\n",
    "\n",
    "# Remove original columns which list events \n",
    "combined.drop(combined.iloc[:, 25:34], inplace=True, axis=1)\n",
    "\n",
    "combined.info()"
   ]
  },
  {
   "cell_type": "markdown",
   "id": "a792e42e-7014-45fa-b1a8-77c91d215c4a",
   "metadata": {},
   "source": [
    "### Convert columns from object type"
   ]
  },
  {
   "cell_type": "code",
   "execution_count": 101,
   "id": "d144479b-164d-4385-9dd7-7af4f2196d21",
   "metadata": {},
   "outputs": [],
   "source": [
    "# Recatorgorize financial columns from object to interger\n",
    "\n",
    "col = ['Lifetime giving', 'First gift amount', 'Greatest gift amount', 'Latest gift amount']\n",
    "\n",
    "for i in combined[col]:\n",
    "    combined[i] = pd.to_numeric(combined[i])\n",
    "   # df['column_name'] = pd.to_numeric(df['column_name'])"
   ]
  },
  {
   "cell_type": "markdown",
   "id": "812b651a-3b91-4de5-8577-071e066873a1",
   "metadata": {
    "tags": []
   },
   "source": [
    "### Convert to datetime\n"
   ]
  },
  {
   "cell_type": "code",
   "execution_count": 102,
   "id": "adae2c9d-da59-4f4d-b90e-a3243ec098b5",
   "metadata": {},
   "outputs": [
    {
     "name": "stdout",
     "output_type": "stream",
     "text": [
      "<class 'pandas.core.frame.DataFrame'>\n",
      "Int64Index: 15613 entries, 0 to 15612\n",
      "Data columns (total 37 columns):\n",
      " #   Column                          Non-Null Count  Dtype         \n",
      "---  ------                          --------------  -----         \n",
      " 0   Constituent ID                  15613 non-null  object        \n",
      " 1   Constituent type                15613 non-null  object        \n",
      " 2   Constituent codes               5367 non-null   object        \n",
      " 3   Lifetime giving                 15613 non-null  float64       \n",
      " 4   First gift amount               15611 non-null  float64       \n",
      " 5   First gift type                 15611 non-null  object        \n",
      " 6   First gift date                 15611 non-null  datetime64[ns]\n",
      " 7   Latest gift amount              15611 non-null  float64       \n",
      " 8   Latest gift type                15611 non-null  object        \n",
      " 9   Latest gift date                15611 non-null  datetime64[ns]\n",
      " 10  Greatest gift amount            15611 non-null  float64       \n",
      " 11  Greatest gift type              15611 non-null  object        \n",
      " 12  Greatest gift date              15611 non-null  datetime64[ns]\n",
      " 13  Prospect status                 176 non-null    object        \n",
      " 14  Last action category            2483 non-null   object        \n",
      " 15  Last action date                2483 non-null   datetime64[ns]\n",
      " 16  Prospect classification         119 non-null    object        \n",
      " 17  Gender                          13191 non-null  object        \n",
      " 18  Spouse                          15613 non-null  int64         \n",
      " 19  Tags                            14825 non-null  object        \n",
      " 20  BPI - Bass Society              62 non-null     float64       \n",
      " 21  Committee, WSF Board+           66 non-null     float64       \n",
      " 22  Committee, WSF-Driven           275 non-null    object        \n",
      " 23  Committees, Outside             102 non-null    float64       \n",
      " 24  Community Groups                224 non-null    object        \n",
      " 25  Legacy                          15613 non-null  int64         \n",
      " 26  Original Building Donor - 2014  9 non-null      float64       \n",
      " 27  Stewardship Letters             106 non-null    float64       \n",
      " 28  Tax Status                      305 non-null    object        \n",
      " 29  Echo Award                      115 non-null    float64       \n",
      " 30  Date added                      15613 non-null  datetime64[ns]\n",
      " 31  Solicit codes                   524 non-null    object        \n",
      " 32  Professional Advisors           244 non-null    float64       \n",
      " 33  Prospect Type                   731 non-null    object        \n",
      " 34  Transformational Donor          23 non-null     float64       \n",
      " 35  Gift Count                      3930 non-null   float64       \n",
      " 36  Events Total                    15613 non-null  int64         \n",
      "dtypes: datetime64[ns](5), float64(13), int64(3), object(16)\n",
      "memory usage: 4.5+ MB\n"
     ]
    }
   ],
   "source": [
    "#### Convert to datetime\n",
    "col = ['First gift date', 'Greatest gift date', 'Latest gift date', 'Last action date', 'Date added']\n",
    "list_dfs = []\n",
    "\n",
    "for i in combined[col]:\n",
    "    combined[i] = combined[i].astype('datetime64[ns]') \n",
    "    \n",
    "combined.info()"
   ]
  },
  {
   "cell_type": "code",
   "execution_count": 103,
   "id": "a4c970dc-2c19-4b2f-ab4d-6900877a3304",
   "metadata": {},
   "outputs": [],
   "source": [
    "# Add Column that lists the difference between date added and first gift date\n",
    "combined['Days to First Gift'] = (combined['Date added'] - combined['First gift date']).abs().dt.days\n",
    "\n",
    "# Add Column that lists the difference between date added and greatest gift date\n",
    "combined['Days to Greatest Gift'] = (combined['Date added'] - combined['Greatest gift date']).abs().dt.days\n",
    "\n",
    "# Add Column that lists the difference between latest gift and today\n",
    "combined['Days since Last Gift'] = (combined['Latest gift date'] - datetime.now()).abs().dt.days\n",
    "\n",
    "# Add Column that lists the difference between first and last gift\n",
    "combined['Days between First and Last Gift'] = (combined['First gift date'] - combined['Latest gift date']).abs().dt.days"
   ]
  },
  {
   "cell_type": "code",
   "execution_count": 104,
   "id": "94d53b1f-651b-4a37-9376-bec55f6ca01a",
   "metadata": {},
   "outputs": [],
   "source": [
    "# Delete original datetime columns\n",
    "combined.drop(['Date added', 'First gift date', 'Latest gift date', 'Greatest gift date', 'Last action date'], inplace=True, axis=1)\n",
    "\n",
    "#combined.info()"
   ]
  },
  {
   "cell_type": "code",
   "execution_count": null,
   "id": "c686681e-06dd-40f9-8a3b-cba57c069d8a",
   "metadata": {},
   "outputs": [],
   "source": [
    "#Convert dates from object to datetime \n",
    "col = ['First gift date', 'Greatest gift date', 'Latest gift date', 'Last action date', 'Date added']\n",
    "list_dfs = []\n",
    "\n",
    "for i in combined[col]:\n",
    "    combined[i] = combined[i].astype('datetime64[ns]') \n",
    "    \n",
    "combined.info()"
   ]
  },
  {
   "cell_type": "code",
   "execution_count": 15,
   "id": "a1fd6363-db28-430c-b129-fa5054a94045",
   "metadata": {},
   "outputs": [],
   "source": [
    "# Add Column that lists the difference between date added and first gift date\n",
    "combined['Days to First Gift'] = (combined['Date added'] - combined['First gift date']).abs().dt.days\n",
    "\n",
    "# Add Column that lists the difference between date added and greatest gift date\n",
    "combined['Days to Greatest Gift'] = (combined['Date added'] - combined['Greatest gift date']).abs().dt.days\n",
    "\n",
    "# Add Column that lists the difference between latest gift and today\n",
    "combined['Days since Last Gift'] = (combined['Latest gift date'] - datetime.now()).abs().dt.days\n",
    "\n",
    "# Add Column that lists the difference between first and last gift\n",
    "combined['Days between First and Last Gift'] = (combined['First gift date'] - combined['Latest gift date']).abs().dt.days"
   ]
  },
  {
   "cell_type": "code",
   "execution_count": 16,
   "id": "c824149b-2380-4d1a-943d-86dcfd008e1d",
   "metadata": {},
   "outputs": [
    {
     "name": "stdout",
     "output_type": "stream",
     "text": [
      "<class 'pandas.core.frame.DataFrame'>\n",
      "Int64Index: 15613 entries, 0 to 15612\n",
      "Data columns (total 41 columns):\n",
      " #   Column                            Non-Null Count  Dtype         \n",
      "---  ------                            --------------  -----         \n",
      " 0   Constituent ID                    15613 non-null  object        \n",
      " 1   Constituent type                  15613 non-null  object        \n",
      " 2   Constituent codes                 5367 non-null   object        \n",
      " 3   Lifetime giving                   15613 non-null  float64       \n",
      " 4   First gift amount                 15611 non-null  float64       \n",
      " 5   First gift type                   15611 non-null  object        \n",
      " 6   First gift date                   15611 non-null  datetime64[ns]\n",
      " 7   Latest gift amount                15611 non-null  float64       \n",
      " 8   Latest gift type                  15611 non-null  object        \n",
      " 9   Latest gift date                  15611 non-null  datetime64[ns]\n",
      " 10  Greatest gift amount              15611 non-null  float64       \n",
      " 11  Greatest gift type                15611 non-null  object        \n",
      " 12  Greatest gift date                15611 non-null  datetime64[ns]\n",
      " 13  Prospect status                   176 non-null    object        \n",
      " 14  Last action category              2483 non-null   object        \n",
      " 15  Last action date                  2483 non-null   datetime64[ns]\n",
      " 16  Prospect classification           119 non-null    object        \n",
      " 17  Gender                            13191 non-null  object        \n",
      " 18  Spouse                            15613 non-null  int64         \n",
      " 19  Tags                              14825 non-null  object        \n",
      " 20  BPI - Bass Society                62 non-null     float64       \n",
      " 21  Committee, WSF Board+             66 non-null     float64       \n",
      " 22  Committee, WSF-Driven             275 non-null    object        \n",
      " 23  Committees, Outside               102 non-null    float64       \n",
      " 24  Community Groups                  224 non-null    object        \n",
      " 25  Legacy                            15613 non-null  int64         \n",
      " 26  Original Building Donor - 2014    9 non-null      float64       \n",
      " 27  Stewardship Letters               106 non-null    float64       \n",
      " 28  Tax Status                        305 non-null    object        \n",
      " 29  Echo Award                        115 non-null    float64       \n",
      " 30  Date added                        15613 non-null  datetime64[ns]\n",
      " 31  Solicit codes                     524 non-null    object        \n",
      " 32  Professional Advisors             244 non-null    float64       \n",
      " 33  Prospect Type                     731 non-null    object        \n",
      " 34  Transformational Donor            23 non-null     float64       \n",
      " 35  Gift Count                        3930 non-null   float64       \n",
      " 36  Events Total                      15613 non-null  int64         \n",
      " 37  Days to First Gift                15611 non-null  float64       \n",
      " 38  Days to Greatest Gift             15611 non-null  float64       \n",
      " 39  Days since Last Gift              15611 non-null  float64       \n",
      " 40  Days between First and Last Gift  15611 non-null  float64       \n",
      "dtypes: datetime64[ns](5), float64(17), int64(3), object(16)\n",
      "memory usage: 5.0+ MB\n"
     ]
    }
   ],
   "source": [
    "combined.info()"
   ]
  },
  {
   "cell_type": "code",
   "execution_count": null,
   "id": "d4873b88-f27b-4688-bb77-c7e7f34cd59a",
   "metadata": {},
   "outputs": [],
   "source": [
    "# Delete datetime columns since they have already been transformed into float\n",
    "combined.drop(['First gift date', 'Latest gift date', 'Greatest gift date', 'Last action date', 'Date added' ], inplace=True, axis=1)"
   ]
  },
  {
   "cell_type": "markdown",
   "id": "8e5585f5-7ed4-4782-bf8f-75558dfb7f5f",
   "metadata": {},
   "source": [
    "### Relabelling and applying red hot encoding"
   ]
  },
  {
   "cell_type": "code",
   "execution_count": 18,
   "id": "9d6a98ab-ae11-4f24-951c-133486ea95ae",
   "metadata": {},
   "outputs": [
    {
     "data": {
      "text/html": [
       "<div>\n",
       "<style scoped>\n",
       "    .dataframe tbody tr th:only-of-type {\n",
       "        vertical-align: middle;\n",
       "    }\n",
       "\n",
       "    .dataframe tbody tr th {\n",
       "        vertical-align: top;\n",
       "    }\n",
       "\n",
       "    .dataframe thead th {\n",
       "        text-align: right;\n",
       "    }\n",
       "</style>\n",
       "<table border=\"1\" class=\"dataframe\">\n",
       "  <thead>\n",
       "    <tr style=\"text-align: right;\">\n",
       "      <th></th>\n",
       "      <th>Lifetime giving</th>\n",
       "      <th>First gift amount</th>\n",
       "      <th>Latest gift amount</th>\n",
       "      <th>Greatest gift amount</th>\n",
       "      <th>Spouse</th>\n",
       "      <th>BPI - Bass Society</th>\n",
       "      <th>Committee, WSF Board+</th>\n",
       "      <th>Committees, Outside</th>\n",
       "      <th>Legacy</th>\n",
       "      <th>Original Building Donor - 2014</th>\n",
       "      <th>Stewardship Letters</th>\n",
       "      <th>Echo Award</th>\n",
       "      <th>Professional Advisors</th>\n",
       "      <th>Transformational Donor</th>\n",
       "      <th>Gift Count</th>\n",
       "      <th>Events Total</th>\n",
       "      <th>Days to First Gift</th>\n",
       "      <th>Days to Greatest Gift</th>\n",
       "      <th>Days since Last Gift</th>\n",
       "      <th>Days between First and Last Gift</th>\n",
       "    </tr>\n",
       "  </thead>\n",
       "  <tbody>\n",
       "    <tr>\n",
       "      <th>count</th>\n",
       "      <td>1.561300e+04</td>\n",
       "      <td>1.561100e+04</td>\n",
       "      <td>1.561100e+04</td>\n",
       "      <td>1.561100e+04</td>\n",
       "      <td>15613.000000</td>\n",
       "      <td>62.0</td>\n",
       "      <td>66.0</td>\n",
       "      <td>102.0</td>\n",
       "      <td>15613.000000</td>\n",
       "      <td>9.0</td>\n",
       "      <td>106.0</td>\n",
       "      <td>115.0</td>\n",
       "      <td>244.0</td>\n",
       "      <td>23.0</td>\n",
       "      <td>3930.000000</td>\n",
       "      <td>15613.000000</td>\n",
       "      <td>15611.000000</td>\n",
       "      <td>15611.000000</td>\n",
       "      <td>15611.000000</td>\n",
       "      <td>15611.000000</td>\n",
       "    </tr>\n",
       "    <tr>\n",
       "      <th>mean</th>\n",
       "      <td>8.233011e+04</td>\n",
       "      <td>8.473649e+03</td>\n",
       "      <td>1.407822e+04</td>\n",
       "      <td>3.422836e+04</td>\n",
       "      <td>0.378595</td>\n",
       "      <td>1.0</td>\n",
       "      <td>1.0</td>\n",
       "      <td>1.0</td>\n",
       "      <td>0.032345</td>\n",
       "      <td>1.0</td>\n",
       "      <td>1.0</td>\n",
       "      <td>1.0</td>\n",
       "      <td>1.0</td>\n",
       "      <td>1.0</td>\n",
       "      <td>4.941221</td>\n",
       "      <td>0.389099</td>\n",
       "      <td>443.797451</td>\n",
       "      <td>934.844020</td>\n",
       "      <td>3591.469925</td>\n",
       "      <td>1213.305810</td>\n",
       "    </tr>\n",
       "    <tr>\n",
       "      <th>std</th>\n",
       "      <td>2.794306e+06</td>\n",
       "      <td>1.250978e+05</td>\n",
       "      <td>1.004086e+06</td>\n",
       "      <td>1.300766e+06</td>\n",
       "      <td>0.485052</td>\n",
       "      <td>0.0</td>\n",
       "      <td>0.0</td>\n",
       "      <td>0.0</td>\n",
       "      <td>0.176920</td>\n",
       "      <td>0.0</td>\n",
       "      <td>0.0</td>\n",
       "      <td>0.0</td>\n",
       "      <td>0.0</td>\n",
       "      <td>0.0</td>\n",
       "      <td>17.198328</td>\n",
       "      <td>1.684643</td>\n",
       "      <td>1566.887282</td>\n",
       "      <td>1914.158834</td>\n",
       "      <td>2417.259051</td>\n",
       "      <td>2417.638666</td>\n",
       "    </tr>\n",
       "    <tr>\n",
       "      <th>min</th>\n",
       "      <td>0.000000e+00</td>\n",
       "      <td>1.000000e+00</td>\n",
       "      <td>6.000000e-02</td>\n",
       "      <td>1.000000e+00</td>\n",
       "      <td>0.000000</td>\n",
       "      <td>1.0</td>\n",
       "      <td>1.0</td>\n",
       "      <td>1.0</td>\n",
       "      <td>0.000000</td>\n",
       "      <td>1.0</td>\n",
       "      <td>1.0</td>\n",
       "      <td>1.0</td>\n",
       "      <td>1.0</td>\n",
       "      <td>1.0</td>\n",
       "      <td>1.000000</td>\n",
       "      <td>0.000000</td>\n",
       "      <td>0.000000</td>\n",
       "      <td>0.000000</td>\n",
       "      <td>18.000000</td>\n",
       "      <td>0.000000</td>\n",
       "    </tr>\n",
       "    <tr>\n",
       "      <th>25%</th>\n",
       "      <td>5.000000e+01</td>\n",
       "      <td>5.000000e+01</td>\n",
       "      <td>5.000000e+01</td>\n",
       "      <td>5.000000e+01</td>\n",
       "      <td>0.000000</td>\n",
       "      <td>1.0</td>\n",
       "      <td>1.0</td>\n",
       "      <td>1.0</td>\n",
       "      <td>0.000000</td>\n",
       "      <td>1.0</td>\n",
       "      <td>1.0</td>\n",
       "      <td>1.0</td>\n",
       "      <td>1.0</td>\n",
       "      <td>1.0</td>\n",
       "      <td>1.000000</td>\n",
       "      <td>0.000000</td>\n",
       "      <td>1.000000</td>\n",
       "      <td>1.000000</td>\n",
       "      <td>1416.000000</td>\n",
       "      <td>0.000000</td>\n",
       "    </tr>\n",
       "    <tr>\n",
       "      <th>50%</th>\n",
       "      <td>1.750000e+02</td>\n",
       "      <td>1.000000e+02</td>\n",
       "      <td>1.000000e+02</td>\n",
       "      <td>1.000000e+02</td>\n",
       "      <td>0.000000</td>\n",
       "      <td>1.0</td>\n",
       "      <td>1.0</td>\n",
       "      <td>1.0</td>\n",
       "      <td>0.000000</td>\n",
       "      <td>1.0</td>\n",
       "      <td>1.0</td>\n",
       "      <td>1.0</td>\n",
       "      <td>1.0</td>\n",
       "      <td>1.0</td>\n",
       "      <td>2.000000</td>\n",
       "      <td>0.000000</td>\n",
       "      <td>3.000000</td>\n",
       "      <td>4.000000</td>\n",
       "      <td>3587.000000</td>\n",
       "      <td>0.000000</td>\n",
       "    </tr>\n",
       "    <tr>\n",
       "      <th>75%</th>\n",
       "      <td>1.000000e+03</td>\n",
       "      <td>2.500000e+02</td>\n",
       "      <td>2.500000e+02</td>\n",
       "      <td>5.000000e+02</td>\n",
       "      <td>1.000000</td>\n",
       "      <td>1.0</td>\n",
       "      <td>1.0</td>\n",
       "      <td>1.0</td>\n",
       "      <td>0.000000</td>\n",
       "      <td>1.0</td>\n",
       "      <td>1.0</td>\n",
       "      <td>1.0</td>\n",
       "      <td>1.0</td>\n",
       "      <td>1.0</td>\n",
       "      <td>4.000000</td>\n",
       "      <td>0.000000</td>\n",
       "      <td>15.000000</td>\n",
       "      <td>747.500000</td>\n",
       "      <td>5217.000000</td>\n",
       "      <td>1432.000000</td>\n",
       "    </tr>\n",
       "    <tr>\n",
       "      <th>max</th>\n",
       "      <td>3.258273e+08</td>\n",
       "      <td>8.000000e+06</td>\n",
       "      <td>1.250000e+08</td>\n",
       "      <td>1.250000e+08</td>\n",
       "      <td>1.000000</td>\n",
       "      <td>1.0</td>\n",
       "      <td>1.0</td>\n",
       "      <td>1.0</td>\n",
       "      <td>1.000000</td>\n",
       "      <td>1.0</td>\n",
       "      <td>1.0</td>\n",
       "      <td>1.0</td>\n",
       "      <td>1.0</td>\n",
       "      <td>1.0</td>\n",
       "      <td>600.000000</td>\n",
       "      <td>29.000000</td>\n",
       "      <td>89121.000000</td>\n",
       "      <td>9633.000000</td>\n",
       "      <td>10828.000000</td>\n",
       "      <td>98567.000000</td>\n",
       "    </tr>\n",
       "  </tbody>\n",
       "</table>\n",
       "</div>"
      ],
      "text/plain": [
       "       Lifetime giving  First gift amount  Latest gift amount  \\\n",
       "count     1.561300e+04       1.561100e+04        1.561100e+04   \n",
       "mean      8.233011e+04       8.473649e+03        1.407822e+04   \n",
       "std       2.794306e+06       1.250978e+05        1.004086e+06   \n",
       "min       0.000000e+00       1.000000e+00        6.000000e-02   \n",
       "25%       5.000000e+01       5.000000e+01        5.000000e+01   \n",
       "50%       1.750000e+02       1.000000e+02        1.000000e+02   \n",
       "75%       1.000000e+03       2.500000e+02        2.500000e+02   \n",
       "max       3.258273e+08       8.000000e+06        1.250000e+08   \n",
       "\n",
       "       Greatest gift amount        Spouse  BPI - Bass Society  \\\n",
       "count          1.561100e+04  15613.000000                62.0   \n",
       "mean           3.422836e+04      0.378595                 1.0   \n",
       "std            1.300766e+06      0.485052                 0.0   \n",
       "min            1.000000e+00      0.000000                 1.0   \n",
       "25%            5.000000e+01      0.000000                 1.0   \n",
       "50%            1.000000e+02      0.000000                 1.0   \n",
       "75%            5.000000e+02      1.000000                 1.0   \n",
       "max            1.250000e+08      1.000000                 1.0   \n",
       "\n",
       "       Committee, WSF Board+  Committees, Outside        Legacy  \\\n",
       "count                   66.0                102.0  15613.000000   \n",
       "mean                     1.0                  1.0      0.032345   \n",
       "std                      0.0                  0.0      0.176920   \n",
       "min                      1.0                  1.0      0.000000   \n",
       "25%                      1.0                  1.0      0.000000   \n",
       "50%                      1.0                  1.0      0.000000   \n",
       "75%                      1.0                  1.0      0.000000   \n",
       "max                      1.0                  1.0      1.000000   \n",
       "\n",
       "       Original Building Donor - 2014  Stewardship Letters  Echo Award  \\\n",
       "count                             9.0                106.0       115.0   \n",
       "mean                              1.0                  1.0         1.0   \n",
       "std                               0.0                  0.0         0.0   \n",
       "min                               1.0                  1.0         1.0   \n",
       "25%                               1.0                  1.0         1.0   \n",
       "50%                               1.0                  1.0         1.0   \n",
       "75%                               1.0                  1.0         1.0   \n",
       "max                               1.0                  1.0         1.0   \n",
       "\n",
       "       Professional Advisors  Transformational Donor   Gift Count  \\\n",
       "count                  244.0                    23.0  3930.000000   \n",
       "mean                     1.0                     1.0     4.941221   \n",
       "std                      0.0                     0.0    17.198328   \n",
       "min                      1.0                     1.0     1.000000   \n",
       "25%                      1.0                     1.0     1.000000   \n",
       "50%                      1.0                     1.0     2.000000   \n",
       "75%                      1.0                     1.0     4.000000   \n",
       "max                      1.0                     1.0   600.000000   \n",
       "\n",
       "       Events Total  Days to First Gift  Days to Greatest Gift  \\\n",
       "count  15613.000000        15611.000000           15611.000000   \n",
       "mean       0.389099          443.797451             934.844020   \n",
       "std        1.684643         1566.887282            1914.158834   \n",
       "min        0.000000            0.000000               0.000000   \n",
       "25%        0.000000            1.000000               1.000000   \n",
       "50%        0.000000            3.000000               4.000000   \n",
       "75%        0.000000           15.000000             747.500000   \n",
       "max       29.000000        89121.000000            9633.000000   \n",
       "\n",
       "       Days since Last Gift  Days between First and Last Gift  \n",
       "count          15611.000000                      15611.000000  \n",
       "mean            3591.469925                       1213.305810  \n",
       "std             2417.259051                       2417.638666  \n",
       "min               18.000000                          0.000000  \n",
       "25%             1416.000000                          0.000000  \n",
       "50%             3587.000000                          0.000000  \n",
       "75%             5217.000000                       1432.000000  \n",
       "max            10828.000000                      98567.000000  "
      ]
     },
     "execution_count": 18,
     "metadata": {},
     "output_type": "execute_result"
    }
   ],
   "source": [
    "combined.describe()"
   ]
  },
  {
   "cell_type": "markdown",
   "id": "15e62a35-ff6d-42de-b107-b5d26aaaaceb",
   "metadata": {
    "tags": []
   },
   "source": [
    "### Red Hot Encoding"
   ]
  },
  {
   "cell_type": "code",
   "execution_count": 107,
   "id": "a7a90e72-fcfb-4cb7-ab4e-d9a48c5be628",
   "metadata": {},
   "outputs": [
    {
     "name": "stdout",
     "output_type": "stream",
     "text": [
      "<class 'pandas.core.frame.DataFrame'>\n",
      "Int64Index: 15613 entries, 0 to 15612\n",
      "Data columns (total 142 columns):\n",
      " #    Column                                               Non-Null Count  Dtype\n",
      "---   ------                                               --------------  -----\n",
      " 0    Gift-in-kind                                         15613 non-null  int64\n",
      " 1    One-time gift                                        15613 non-null  int64\n",
      " 2    Other                                                15613 non-null  int64\n",
      " 3    Pledge                                               15613 non-null  int64\n",
      " 4    Pledge payment                                       15613 non-null  int64\n",
      " 5    Recurring gift payment                               15613 non-null  int64\n",
      " 6    Soft credit one-time gift                            15613 non-null  int64\n",
      " 7    Soft credit other                                    15613 non-null  int64\n",
      " 8    Soft credit pledge                                   15613 non-null  int64\n",
      " 9    Soft credit stock/property                           15613 non-null  int64\n",
      " 10   Soft credit stock/property                           15613 non-null  int64\n",
      " 11   Stock/property                                       15613 non-null  int64\n",
      " 12   Stock/property                                       15613 non-null  int64\n",
      " 13   Gift-in-kind                                         15613 non-null  int64\n",
      " 14   One-time gift                                        15613 non-null  int64\n",
      " 15   Other                                                15613 non-null  int64\n",
      " 16   Pledge                                               15613 non-null  int64\n",
      " 17   Pledge payment                                       15613 non-null  int64\n",
      " 18   Recurring gift payment                               15613 non-null  int64\n",
      " 19   Soft credit one-time gift                            15613 non-null  int64\n",
      " 20   Soft credit other                                    15613 non-null  int64\n",
      " 21   Soft credit pledge                                   15613 non-null  int64\n",
      " 22   Soft credit pledge payment                           15613 non-null  int64\n",
      " 23   Soft credit stock/property                           15613 non-null  int64\n",
      " 24   Stock/property                                       15613 non-null  int64\n",
      " 25   Stock/property                                       15613 non-null  int64\n",
      " 26   Gift-in-kind                                         15613 non-null  int64\n",
      " 27   One-time gift                                        15613 non-null  int64\n",
      " 28   Other                                                15613 non-null  int64\n",
      " 29   Pledge                                               15613 non-null  int64\n",
      " 30   Pledge payment                                       15613 non-null  int64\n",
      " 31   Soft credit one-time gift                            15613 non-null  int64\n",
      " 32   Soft credit other                                    15613 non-null  int64\n",
      " 33   Soft credit pledge                                   15613 non-null  int64\n",
      " 34   Soft credit pledge payment                           15613 non-null  int64\n",
      " 35   Soft credit stock/property                           15613 non-null  int64\n",
      " 36   Soft credit stock/property                           15613 non-null  int64\n",
      " 37   Stock/property                                       15613 non-null  int64\n",
      " 38   Stock/property                                       15613 non-null  int64\n",
      " 39   Email                                                15613 non-null  int64\n",
      " 40   Mailing                                              15613 non-null  int64\n",
      " 41   Meeting                                              15613 non-null  int64\n",
      " 42   Phone call                                           15613 non-null  int64\n",
      " 43   Task/Other                                           15613 non-null  int64\n",
      " 44   Business                                             15613 non-null  int64\n",
      " 45   Estate                                               15613 non-null  int64\n",
      " 46   Foundation                                           15613 non-null  int64\n",
      " 47   Fundholder Portal Access                             15613 non-null  int64\n",
      " 48   Grant Payee                                          15613 non-null  int64\n",
      " 49   Grant Requestor / Recipient                          15613 non-null  int64\n",
      " 50   Grant Requestor / Recipient - Student                15613 non-null  int64\n",
      " 51   Individual                                           15613 non-null  int64\n",
      " 52   Online Review Committee                              15613 non-null  int64\n",
      " 53   Organization                                         15613 non-null  int64\n",
      " 54   Professional Advisor                                 15613 non-null  int64\n",
      " 55   Prospect                                             15613 non-null  int64\n",
      " 56   Religious Organization                               15613 non-null  int64\n",
      " 57   Teacher Grant Applicant                              15613 non-null  int64\n",
      " 58   Volunteer                                            15613 non-null  int64\n",
      " 59   WSF Board Member - Current                           15613 non-null  int64\n",
      " 60   WSF Board Member - Former                            15613 non-null  int64\n",
      " 61   WSF Staff                                            15613 non-null  int64\n",
      " 62   WSF-Former Staff                                     15613 non-null  int64\n",
      " 63   Individual                                           15613 non-null  int64\n",
      " 64   Organization                                         15613 non-null  int64\n",
      " 65   Centennial A                                         15613 non-null  int64\n",
      " 66   Centennial B                                         15613 non-null  int64\n",
      " 67   Centennial C                                         15613 non-null  int64\n",
      " 68   Centennial No                                        15613 non-null  int64\n",
      " 69   Next Century Ambassadors                             15613 non-null  int64\n",
      " 70   Cultivation                                          15613 non-null  int64\n",
      " 71   New Prospect                                         15613 non-null  int64\n",
      " 72   Pending Ask                                          15613 non-null  int64\n",
      " 73   Stewardship                                          15613 non-null  int64\n",
      " 74                                                        15613 non-null  int64\n",
      " 75   BPI                                                  15613 non-null  int64\n",
      " 76   Carolina Physicians Assoc Doc                        15613 non-null  int64\n",
      " 77   Elkin                                                15613 non-null  int64\n",
      " 78   IWAVES                                               15613 non-null  int64\n",
      " 79   Mailing Recipient                                    15613 non-null  int64\n",
      " 80   Women's Fund                                         15613 non-null  int64\n",
      " 81   Female                                               15613 non-null  int64\n",
      " 82   Male                                                 15613 non-null  int64\n",
      " 83   Unknown                                              15613 non-null  int64\n",
      " 84   At risk donor                                        15613 non-null  int64\n",
      " 85   High wealth rating                                   15613 non-null  int64\n",
      " 86   Higher giving potential                              15613 non-null  int64\n",
      " 87   Lapsed donor                                         15613 non-null  int64\n",
      " 88   Lapsing donor                                        15613 non-null  int64\n",
      " 89   Lost donor                                           15613 non-null  int64\n",
      " 90   New donor                                            15613 non-null  int64\n",
      " 91   No contact                                           15613 non-null  int64\n",
      " 92   No meeting                                           15613 non-null  int64\n",
      " 93   Overdue pledge                                       15613 non-null  int64\n",
      " 94   Recent gift                                          15613 non-null  int64\n",
      " 95   Recent wealth data                                   15613 non-null  int64\n",
      " 96   Upcoming birthday                                    15613 non-null  int64\n",
      " 97   Asset Development Committee - Current Member         15613 non-null  int64\n",
      " 98   Asset Development Committee - Past Member            15613 non-null  int64\n",
      " 99   BPI Advisory Committee - Current Member              15613 non-null  int64\n",
      " 100  BPI Advisory Committee - Past Member                 15613 non-null  int64\n",
      " 101  Community Philanthropy Builders - Current Member     15613 non-null  int64\n",
      " 102  Community Philanthropy Builders - Past Member        15613 non-null  int64\n",
      " 103  Next Century Ambassador                              15613 non-null  int64\n",
      " 104  Racial Equity Advocates                              15613 non-null  int64\n",
      " 105  Scholarship Application Reviewers - Current Member   15613 non-null  int64\n",
      " 106  Scholarship Application Reviewers - Past Member      15613 non-null  int64\n",
      " 107  Women's Fund Advisory Council-Current Member         15613 non-null  int64\n",
      " 108  Women's Fund Advisory Council-Past Member            15613 non-null  int64\n",
      " 109  Women's Fund Committee Board-Current Member          15613 non-null  int64\n",
      " 110  Women's Fund Committee Board-Past Member             15613 non-null  int64\n",
      " 111  YGA - Alumni Member                                  15613 non-null  int64\n",
      " 112  Campaign Coordinating Committee                      15613 non-null  int64\n",
      " 113  Downtown Winston-Salem Partnership                   15613 non-null  int64\n",
      " 114  Echo Council - Current Member                        15613 non-null  int64\n",
      " 115  Echo Council - Past Member                           15613 non-null  int64\n",
      " 116  Echo Grant                                           15613 non-null  int64\n",
      " 117  Echo Network Board                                   15613 non-null  int64\n",
      " 118  Forsyth Emerging Issues                              15613 non-null  int64\n",
      " 119  Jewish Community                                     15613 non-null  int64\n",
      " 120  Millennium Fund Oversight Executive Committee        15613 non-null  int64\n",
      " 121  Novant Board                                         15613 non-null  int64\n",
      " 122  WF Nonprofit or Business Leader List                 15613 non-null  int64\n",
      " 123  Winston-Salem Alliance                               15613 non-null  int64\n",
      " 124  No Annual Report                                     15613 non-null  int64\n",
      " 125  No BPI Enews                                         15613 non-null  int64\n",
      " 126  No CLF Appeal                                        15613 non-null  int64\n",
      " 127  No Email, Mail, Phone, or Solicit.                   15613 non-null  int64\n",
      " 128  No GiftLaw eNewsletter                               15613 non-null  int64\n",
      " 129  No Mail                                              15613 non-null  int64\n",
      " 130  No WF Enews                                          15613 non-null  int64\n",
      " 131  No WSF Enews                                         15613 non-null  int64\n",
      " 132  Phantom Record                                       15613 non-null  int64\n",
      " 133                                                       15613 non-null  int64\n",
      " 134                                                       15613 non-null  int64\n",
      " 135   Private Nonoperating Foundation                     15613 non-null  int64\n",
      " 136   Private Operating Foundation                        15613 non-null  int64\n",
      " 137   Public Charity                                      15613 non-null  int64\n",
      " 138  Educational Organization                             15613 non-null  int64\n",
      " 139  Governmental Organization                            15613 non-null  int64\n",
      " 140  Other                                                15613 non-null  int64\n",
      " 141  Religious Organization                               15613 non-null  int64\n",
      "dtypes: int64(142)\n",
      "memory usage: 17.0 MB\n"
     ]
    }
   ],
   "source": [
    "#Itterate through columns that will separate values at ';' and then return dummy variables\n",
    "#Also eliminate dates and numbers so that there can be better groupings\n",
    "\n",
    "col = ['First gift type', 'Latest gift type', 'Greatest gift type', 'Last action category', 'Constituent codes', 'Constituent type', 'Prospect classification', 'Prospect status', 'Prospect Type', 'Gender', 'Tags', 'Committee, WSF-Driven','Community Groups', 'Solicit codes', 'Tax Status' ]\n",
    "list_dfs = []\n",
    "\n",
    "for i in combined[col]:\n",
    "    list_dfs.append(combined[i].str.replace(r\"\\([^()]*\\)\", \";\").str.replace('\\d+', ' ').str.get_dummies(sep=';'))\n",
    "    dummy_df = pd.concat(list_dfs, axis=1) \n",
    "\n",
    "dummy_df.info(verbose=True, show_counts=True)"
   ]
  },
  {
   "cell_type": "code",
   "execution_count": 108,
   "id": "a560985b-3a14-4677-94e9-50173c6d2d57",
   "metadata": {},
   "outputs": [],
   "source": [
    "# Delete dummy columns that either would add multicollinearity or are not meaningful to analysis\n",
    "dummy_df.drop(['Organization', 'Male', 'Upcoming birthday', ' ', '  '], inplace=True, axis=1)\n",
    "\n",
    "# Add the dummy variables to the original dataframe\n",
    "recoded = pd.concat([combined, dummy_df], axis=1)\n",
    "\n",
    "# Delete the original columns that have been tranformed\n",
    "recoded.drop(['First gift type', 'Latest gift type', 'Greatest gift type', 'Last action category', 'Constituent codes', 'Constituent type', 'Prospect classification', 'Prospect status', 'Prospect Type', 'Gender', 'Tags', 'Committee, WSF-Driven','Community Groups', 'Solicit codes', 'Tax Status' ], inplace=True, axis=1)"
   ]
  },
  {
   "cell_type": "markdown",
   "id": "028985c3-3123-44ac-be5f-198450970d0d",
   "metadata": {},
   "source": [
    "### Add column with categorical values for target feature"
   ]
  },
  {
   "cell_type": "code",
   "execution_count": 109,
   "id": "4b5de937-91ff-4ead-9499-7d088659c24c",
   "metadata": {},
   "outputs": [
    {
     "name": "stdout",
     "output_type": "stream",
     "text": [
      "$1+         13884\n",
      "$25,000+     1348\n",
      "$10,000+      381\n",
      "Name: Donor Tier, dtype: int64\n"
     ]
    }
   ],
   "source": [
    "# Create bins for lifetime giving. This will be used for target column \n",
    "# Bins limits are based upon Foundation's guidelines of establishing donor advised funds\n",
    "recoded[\"Donor Tier\"] = pd.cut(recoded[\"Lifetime giving\"],[-.5, 10000, 25000, 1000000000], precision=0, labels=['$1+', '$10,000+','$25,000+'])\n",
    "\n",
    "#Check value count for target column\n",
    "print(recoded['Donor Tier'].value_counts())"
   ]
  },
  {
   "cell_type": "code",
   "execution_count": 110,
   "id": "36d0fc60-5175-42b8-996c-7350605b5d61",
   "metadata": {},
   "outputs": [
    {
     "data": {
      "image/png": "[encoded data removed]",
      "text/plain": [
       "<Figure size 432x288 with 1 Axes>"
      ]
     },
     "metadata": {
      "needs_background": "light"
     },
     "output_type": "display_data"
    }
   ],
   "source": [
    "# Plot donor tier column\n",
    "barplot = recoded.value_counts(recoded['Donor Tier']).plot.bar()"
   ]
  },
  {
   "cell_type": "markdown",
   "id": "e51b709e-1d73-4a69-9463-c134e97c192d",
   "metadata": {},
   "source": [
    "The data is higly imbalanced and with $1-$10,000 bin having nearly ten times the number of constituents as the other two combined. "
   ]
  },
  {
   "cell_type": "markdown",
   "id": "6ea7512f-57b1-46c8-b1a8-d1d2b862df52",
   "metadata": {},
   "source": [
    "## Filling in NaN values"
   ]
  },
  {
   "cell_type": "code",
   "execution_count": 111,
   "id": "bf03a47f-1222-4587-b5ac-0a5f2d99869f",
   "metadata": {},
   "outputs": [
    {
     "name": "stdout",
     "output_type": "stream",
     "text": [
      "<class 'pandas.core.frame.DataFrame'>\n",
      "Int64Index: 15613 entries, 0 to 15612\n",
      "Data columns (total 158 columns):\n",
      " #    Column                                               Non-Null Count  Dtype   \n",
      "---   ------                                               --------------  -----   \n",
      " 0    Constituent ID                                       15613 non-null  object  \n",
      " 1    Lifetime giving                                      15613 non-null  float64 \n",
      " 2    First gift amount                                    15613 non-null  float64 \n",
      " 3    Latest gift amount                                   15613 non-null  float64 \n",
      " 4    Greatest gift amount                                 15613 non-null  float64 \n",
      " 5    Spouse                                               15613 non-null  int64   \n",
      " 6    BPI - Bass Society                                   15613 non-null  float64 \n",
      " 7    Committee, WSF Board+                                15613 non-null  float64 \n",
      " 8    Committees, Outside                                  15613 non-null  float64 \n",
      " 9    Legacy                                               15613 non-null  int64   \n",
      " 10   Original Building Donor - 2014                       15613 non-null  float64 \n",
      " 11   Stewardship Letters                                  15613 non-null  float64 \n",
      " 12   Echo Award                                           15613 non-null  float64 \n",
      " 13   Professional Advisors                                15613 non-null  float64 \n",
      " 14   Transformational Donor                               15613 non-null  float64 \n",
      " 15   Gift Count                                           15613 non-null  float64 \n",
      " 16   Events Total                                         15613 non-null  int64   \n",
      " 17   Days to First Gift                                   15613 non-null  float64 \n",
      " 18   Days to Greatest Gift                                15613 non-null  float64 \n",
      " 19   Days since Last Gift                                 15613 non-null  float64 \n",
      " 20   Days between First and Last Gift                     15613 non-null  float64 \n",
      " 21   Gift-in-kind                                         15613 non-null  int64   \n",
      " 22   One-time gift                                        15613 non-null  int64   \n",
      " 23   Other                                                15613 non-null  int64   \n",
      " 24   Pledge                                               15613 non-null  int64   \n",
      " 25   Pledge payment                                       15613 non-null  int64   \n",
      " 26   Recurring gift payment                               15613 non-null  int64   \n",
      " 27   Soft credit one-time gift                            15613 non-null  int64   \n",
      " 28   Soft credit other                                    15613 non-null  int64   \n",
      " 29   Soft credit pledge                                   15613 non-null  int64   \n",
      " 30   Soft credit stock/property                           15613 non-null  int64   \n",
      " 31   Soft credit stock/property                           15613 non-null  int64   \n",
      " 32   Stock/property                                       15613 non-null  int64   \n",
      " 33   Stock/property                                       15613 non-null  int64   \n",
      " 34   Gift-in-kind                                         15613 non-null  int64   \n",
      " 35   One-time gift                                        15613 non-null  int64   \n",
      " 36   Other                                                15613 non-null  int64   \n",
      " 37   Pledge                                               15613 non-null  int64   \n",
      " 38   Pledge payment                                       15613 non-null  int64   \n",
      " 39   Recurring gift payment                               15613 non-null  int64   \n",
      " 40   Soft credit one-time gift                            15613 non-null  int64   \n",
      " 41   Soft credit other                                    15613 non-null  int64   \n",
      " 42   Soft credit pledge                                   15613 non-null  int64   \n",
      " 43   Soft credit pledge payment                           15613 non-null  int64   \n",
      " 44   Soft credit stock/property                           15613 non-null  int64   \n",
      " 45   Stock/property                                       15613 non-null  int64   \n",
      " 46   Stock/property                                       15613 non-null  int64   \n",
      " 47   Gift-in-kind                                         15613 non-null  int64   \n",
      " 48   One-time gift                                        15613 non-null  int64   \n",
      " 49   Other                                                15613 non-null  int64   \n",
      " 50   Pledge                                               15613 non-null  int64   \n",
      " 51   Pledge payment                                       15613 non-null  int64   \n",
      " 52   Soft credit one-time gift                            15613 non-null  int64   \n",
      " 53   Soft credit other                                    15613 non-null  int64   \n",
      " 54   Soft credit pledge                                   15613 non-null  int64   \n",
      " 55   Soft credit pledge payment                           15613 non-null  int64   \n",
      " 56   Soft credit stock/property                           15613 non-null  int64   \n",
      " 57   Soft credit stock/property                           15613 non-null  int64   \n",
      " 58   Stock/property                                       15613 non-null  int64   \n",
      " 59   Stock/property                                       15613 non-null  int64   \n",
      " 60   Email                                                15613 non-null  int64   \n",
      " 61   Mailing                                              15613 non-null  int64   \n",
      " 62   Meeting                                              15613 non-null  int64   \n",
      " 63   Phone call                                           15613 non-null  int64   \n",
      " 64   Task/Other                                           15613 non-null  int64   \n",
      " 65   Business                                             15613 non-null  int64   \n",
      " 66   Estate                                               15613 non-null  int64   \n",
      " 67   Foundation                                           15613 non-null  int64   \n",
      " 68   Fundholder Portal Access                             15613 non-null  int64   \n",
      " 69   Grant Payee                                          15613 non-null  int64   \n",
      " 70   Grant Requestor / Recipient                          15613 non-null  int64   \n",
      " 71   Grant Requestor / Recipient - Student                15613 non-null  int64   \n",
      " 72   Individual                                           15613 non-null  int64   \n",
      " 73   Online Review Committee                              15613 non-null  int64   \n",
      " 74   Organization                                         15613 non-null  int64   \n",
      " 75   Professional Advisor                                 15613 non-null  int64   \n",
      " 76   Prospect                                             15613 non-null  int64   \n",
      " 77   Religious Organization                               15613 non-null  int64   \n",
      " 78   Teacher Grant Applicant                              15613 non-null  int64   \n",
      " 79   Volunteer                                            15613 non-null  int64   \n",
      " 80   WSF Board Member - Current                           15613 non-null  int64   \n",
      " 81   WSF Board Member - Former                            15613 non-null  int64   \n",
      " 82   WSF Staff                                            15613 non-null  int64   \n",
      " 83   WSF-Former Staff                                     15613 non-null  int64   \n",
      " 84   Individual                                           15613 non-null  int64   \n",
      " 85   Centennial A                                         15613 non-null  int64   \n",
      " 86   Centennial B                                         15613 non-null  int64   \n",
      " 87   Centennial C                                         15613 non-null  int64   \n",
      " 88   Centennial No                                        15613 non-null  int64   \n",
      " 89   Next Century Ambassadors                             15613 non-null  int64   \n",
      " 90   Cultivation                                          15613 non-null  int64   \n",
      " 91   New Prospect                                         15613 non-null  int64   \n",
      " 92   Pending Ask                                          15613 non-null  int64   \n",
      " 93   Stewardship                                          15613 non-null  int64   \n",
      " 94   BPI                                                  15613 non-null  int64   \n",
      " 95   Carolina Physicians Assoc Doc                        15613 non-null  int64   \n",
      " 96   Elkin                                                15613 non-null  int64   \n",
      " 97   IWAVES                                               15613 non-null  int64   \n",
      " 98   Mailing Recipient                                    15613 non-null  int64   \n",
      " 99   Women's Fund                                         15613 non-null  int64   \n",
      " 100  Female                                               15613 non-null  int64   \n",
      " 101  Unknown                                              15613 non-null  int64   \n",
      " 102  At risk donor                                        15613 non-null  int64   \n",
      " 103  High wealth rating                                   15613 non-null  int64   \n",
      " 104  Higher giving potential                              15613 non-null  int64   \n",
      " 105  Lapsed donor                                         15613 non-null  int64   \n",
      " 106  Lapsing donor                                        15613 non-null  int64   \n",
      " 107  Lost donor                                           15613 non-null  int64   \n",
      " 108  New donor                                            15613 non-null  int64   \n",
      " 109  No contact                                           15613 non-null  int64   \n",
      " 110  No meeting                                           15613 non-null  int64   \n",
      " 111  Overdue pledge                                       15613 non-null  int64   \n",
      " 112  Recent gift                                          15613 non-null  int64   \n",
      " 113  Recent wealth data                                   15613 non-null  int64   \n",
      " 114  Asset Development Committee - Current Member         15613 non-null  int64   \n",
      " 115  Asset Development Committee - Past Member            15613 non-null  int64   \n",
      " 116  BPI Advisory Committee - Current Member              15613 non-null  int64   \n",
      " 117  BPI Advisory Committee - Past Member                 15613 non-null  int64   \n",
      " 118  Community Philanthropy Builders - Current Member     15613 non-null  int64   \n",
      " 119  Community Philanthropy Builders - Past Member        15613 non-null  int64   \n",
      " 120  Next Century Ambassador                              15613 non-null  int64   \n",
      " 121  Racial Equity Advocates                              15613 non-null  int64   \n",
      " 122  Scholarship Application Reviewers - Current Member   15613 non-null  int64   \n",
      " 123  Scholarship Application Reviewers - Past Member      15613 non-null  int64   \n",
      " 124  Women's Fund Advisory Council-Current Member         15613 non-null  int64   \n",
      " 125  Women's Fund Advisory Council-Past Member            15613 non-null  int64   \n",
      " 126  Women's Fund Committee Board-Current Member          15613 non-null  int64   \n",
      " 127  Women's Fund Committee Board-Past Member             15613 non-null  int64   \n",
      " 128  YGA - Alumni Member                                  15613 non-null  int64   \n",
      " 129  Campaign Coordinating Committee                      15613 non-null  int64   \n",
      " 130  Downtown Winston-Salem Partnership                   15613 non-null  int64   \n",
      " 131  Echo Council - Current Member                        15613 non-null  int64   \n",
      " 132  Echo Council - Past Member                           15613 non-null  int64   \n",
      " 133  Echo Grant                                           15613 non-null  int64   \n",
      " 134  Echo Network Board                                   15613 non-null  int64   \n",
      " 135  Forsyth Emerging Issues                              15613 non-null  int64   \n",
      " 136  Jewish Community                                     15613 non-null  int64   \n",
      " 137  Millennium Fund Oversight Executive Committee        15613 non-null  int64   \n",
      " 138  Novant Board                                         15613 non-null  int64   \n",
      " 139  WF Nonprofit or Business Leader List                 15613 non-null  int64   \n",
      " 140  Winston-Salem Alliance                               15613 non-null  int64   \n",
      " 141  No Annual Report                                     15613 non-null  int64   \n",
      " 142  No BPI Enews                                         15613 non-null  int64   \n",
      " 143  No CLF Appeal                                        15613 non-null  int64   \n",
      " 144  No Email, Mail, Phone, or Solicit.                   15613 non-null  int64   \n",
      " 145  No GiftLaw eNewsletter                               15613 non-null  int64   \n",
      " 146  No Mail                                              15613 non-null  int64   \n",
      " 147  No WF Enews                                          15613 non-null  int64   \n",
      " 148  No WSF Enews                                         15613 non-null  int64   \n",
      " 149  Phantom Record                                       15613 non-null  int64   \n",
      " 150   Private Nonoperating Foundation                     15613 non-null  int64   \n",
      " 151   Private Operating Foundation                        15613 non-null  int64   \n",
      " 152   Public Charity                                      15613 non-null  int64   \n",
      " 153  Educational Organization                             15613 non-null  int64   \n",
      " 154  Governmental Organization                            15613 non-null  int64   \n",
      " 155  Other                                                15613 non-null  int64   \n",
      " 156  Religious Organization                               15613 non-null  int64   \n",
      " 157  Donor Tier                                           15613 non-null  category\n",
      "dtypes: category(1), float64(17), int64(139), object(1)\n",
      "memory usage: 18.8+ MB\n"
     ]
    }
   ],
   "source": [
    "# Filling in all the NaN values with a 0 since the data is pretty sparse and likely no value means zero\n",
    "recoded.iloc[:,0:-1] = recoded.iloc[:,0:-1].fillna(value=0)\n",
    "\n",
    "#Verify that the columns are correct type and are complete\n",
    "recoded.info(verbose=True, show_counts=True)"
   ]
  },
  {
   "cell_type": "markdown",
   "id": "30a23c6b-0311-47b5-a6ad-c5904581a498",
   "metadata": {
    "tags": []
   },
   "source": [
    "## Correlation Analysis between Lifetime Giving\n"
   ]
  },
  {
   "cell_type": "code",
   "execution_count": 112,
   "id": "edaeff81-681e-403c-ad19-19a4c6858662",
   "metadata": {},
   "outputs": [
    {
     "name": "stdout",
     "output_type": "stream",
     "text": [
      "Lifetime giving                                        1.000000\n",
      "Latest gift amount                                     0.936161\n",
      "Greatest gift amount                                   0.933074\n",
      "Pending Ask                                            0.305397\n",
      "Centennial A                                           0.201668\n",
      "No contact                                             0.116252\n",
      "No meeting                                             0.110902\n",
      "Meeting                                                0.083612\n",
      "First gift amount                                      0.081732\n",
      "Professional Advisor                                   0.073691\n",
      "Transformational Donor                                 0.071792\n",
      "Events Total                                           0.065722\n",
      "Days to Greatest Gift                                  0.063759\n",
      "Days between First and Last Gift                       0.060552\n",
      "Lapsing donor                                          0.043729\n",
      "Next Century Ambassadors                               0.041051\n",
      "Next Century Ambassador                                0.041051\n",
      "Cultivation                                            0.037077\n",
      "Mailing Recipient                                      0.036001\n",
      "Legacy                                                 0.034896\n",
      "Gift Count                                             0.034280\n",
      "Fundholder Portal Access                               0.029776\n",
      "Stewardship Letters                                    0.027089\n",
      "Original Building Donor - 2014                         0.025712\n",
      "Estate                                                 0.024090\n",
      "Recent gift                                            0.023937\n",
      "Mailing                                                0.022439\n",
      "Stock/property                                         0.021967\n",
      "Soft credit stock/property                             0.021566\n",
      "Stock/property                                         0.021526\n",
      "Soft credit stock/property                             0.020858\n",
      "Committee, WSF Board+                                  0.018967\n",
      "Stock/property                                         0.018779\n",
      "Asset Development Committee - Past Member              0.018044\n",
      "Soft credit stock/property                             0.016259\n",
      "WSF Board Member - Former                              0.015472\n",
      "Centennial B                                           0.014943\n",
      "Other                                                  0.014279\n",
      "Email                                                  0.013640\n",
      "Echo Council - Past Member                             0.013022\n",
      "WSF Board Member - Current                             0.012765\n",
      "Pledge payment                                         0.012493\n",
      "Stewardship                                            0.011853\n",
      "Phone call                                             0.011651\n",
      "BPI - Bass Society                                     0.010901\n",
      "Soft credit other                                      0.010119\n",
      " Private Nonoperating Foundation                       0.009856\n",
      "Volunteer                                              0.009213\n",
      "Winston-Salem Alliance                                 0.009061\n",
      "Foundation                                             0.009061\n",
      "Days to First Gift                                     0.008458\n",
      "Soft credit one-time gift                              0.007816\n",
      "High wealth rating                                     0.007501\n",
      "Centennial C                                           0.007454\n",
      "No CLF Appeal                                          0.007373\n",
      "Soft credit pledge payment                             0.006832\n",
      "Overdue pledge                                         0.006299\n",
      "Millennium Fund Oversight Executive Committee          0.005890\n",
      "Campaign Coordinating Committee                        0.005881\n",
      "Community Philanthropy Builders - Past Member          0.005821\n",
      "Pledge                                                 0.005806\n",
      "Other                                                  0.005385\n",
      " Public Charity                                        0.005158\n",
      "Community Philanthropy Builders - Current Member       0.005102\n",
      "Racial Equity Advocates                                0.004946\n",
      "Soft credit pledge                                     0.004875\n",
      "Grant Payee                                            0.004677\n",
      "Grant Requestor / Recipient                            0.004488\n",
      "Governmental Organization                              0.004283\n",
      "At risk donor                                          0.003965\n",
      "Other                                                  0.003571\n",
      "Soft credit other                                      0.003151\n",
      "Soft credit pledge                                     0.003146\n",
      "Soft credit other                                      0.002611\n",
      "BPI                                                    0.002520\n",
      "Task/Other                                             0.002252\n",
      "Women's Fund Advisory Council-Current Member           0.002232\n",
      "WF Nonprofit or Business Leader List                   0.002231\n",
      "No Annual Report                                       0.001973\n",
      "Echo Grant                                             0.001812\n",
      "Novant Board                                           0.001695\n",
      "Soft credit stock/property                             0.001309\n",
      "Echo Award                                             0.001034\n",
      "Women's Fund Committee Board-Past Member               0.000940\n",
      "No WSF Enews                                           0.000787\n",
      "Jewish Community                                       0.000702\n",
      "Organization                                           0.000612\n",
      "Forsyth Emerging Issues                                0.000593\n",
      "Downtown Winston-Salem Partnership                     0.000499\n",
      "Stock/property                                         0.000413\n",
      "Centennial No                                          0.000371\n",
      "Stock/property                                         0.000340\n",
      "Phantom Record                                         0.000279\n",
      "Business                                               0.000245\n",
      "Soft credit one-time gift                              0.000218\n",
      "Stock/property                                         0.000217\n",
      "Soft credit stock/property                             0.000151\n",
      "Soft credit one-time gift                              0.000064\n",
      "Professional Advisors                                  0.000035\n",
      "Carolina Physicians Assoc Doc                         -0.000001\n",
      "Committees, Outside                                   -0.000143\n",
      "New Prospect                                          -0.000150\n",
      "Gift-in-kind                                          -0.000160\n",
      "No Mail                                               -0.000166\n",
      "Soft credit pledge payment                            -0.000212\n",
      " Private Operating Foundation                         -0.000221\n",
      "Recurring gift payment                                -0.000228\n",
      "Pledge                                                -0.000230\n",
      "Gift-in-kind                                          -0.000230\n",
      "Soft credit pledge                                    -0.000230\n",
      "Asset Development Committee - Current Member          -0.000232\n",
      "Recent wealth data                                    -0.000236\n",
      "Recurring gift payment                                -0.000236\n",
      "No WF Enews                                           -0.000272\n",
      "No BPI Enews                                          -0.000275\n",
      "Grant Requestor / Recipient - Student                 -0.000301\n",
      "Gift-in-kind                                          -0.000308\n",
      "Teacher Grant Applicant                               -0.000333\n",
      "IWAVES                                                -0.000353\n",
      "No GiftLaw eNewsletter                                -0.000359\n",
      "Women's Fund Advisory Council-Past Member             -0.000394\n",
      "Pledge payment                                        -0.000394\n",
      "New donor                                             -0.000405\n",
      "Pledge payment                                        -0.000455\n",
      "Echo Network Board                                    -0.000484\n",
      "Online Review Committee                               -0.000491\n",
      "BPI Advisory Committee - Past Member                  -0.000681\n",
      "Scholarship Application Reviewers - Past Member       -0.000705\n",
      "Other                                                 -0.000744\n",
      "Religious Organization                                -0.000783\n",
      "Educational Organization                              -0.000787\n",
      "BPI Advisory Committee - Current Member               -0.000807\n",
      "Women's Fund Committee Board-Current Member           -0.000856\n",
      "No Email, Mail, Phone, or Solicit.                    -0.000911\n",
      "YGA - Alumni Member                                   -0.000921\n",
      "Elkin                                                 -0.000941\n",
      "WSF-Former Staff                                      -0.000950\n",
      "Echo Council - Current Member                         -0.001045\n",
      "Individual                                            -0.001069\n",
      "Scholarship Application Reviewers - Current Member    -0.001082\n",
      "Religious Organization                                -0.001085\n",
      "WSF Staff                                             -0.001127\n",
      "Pledge                                                -0.001224\n",
      "Spouse                                                -0.001269\n",
      "Women's Fund                                          -0.001778\n",
      "Prospect                                              -0.003132\n",
      "Lapsed donor                                          -0.003611\n",
      "Unknown                                               -0.005059\n",
      "Female                                                -0.012529\n",
      "Higher giving potential                               -0.013587\n",
      "One-time gift                                         -0.024151\n",
      "One-time gift                                         -0.024327\n",
      "One-time gift                                         -0.025995\n",
      "Days since Last Gift                                  -0.032893\n",
      "Individual                                            -0.035649\n",
      "Lost donor                                            -0.037115\n",
      "dtype: float64\n"
     ]
    }
   ],
   "source": [
    "# Lifetime giving Correlations\n",
    "corrLG = recoded.corrwith(recoded['Lifetime giving']).sort_values(ascending=False)\n",
    "\n",
    "#pd.set_option('display.max_rows', None)\n",
    "print(corrLG)"
   ]
  },
  {
   "cell_type": "markdown",
   "id": "6336eaaa-b6b5-4a82-9178-ac5daa8b381e",
   "metadata": {},
   "source": [
    "The two features with the strongest correlation are Last gift amount and greatest gift amount (both around 93%). This makes sense since they are part of a continuum. All the other features are a lot less correlated with Pending Ask (31%) and Centennial A (20%) being the next strongest. Surprisingly, First gift amount only has an 8% correlation. This may indicate a trend of donors increasing their gifts over time."
   ]
  },
  {
   "cell_type": "code",
   "execution_count": 260,
   "id": "add99a66-66b0-4208-b965-eab0d0f846a4",
   "metadata": {},
   "outputs": [
    {
     "data": {
      "image/png": "[encoded data removed]",
      "text/plain": [
       "<Figure size 432x288 with 2 Axes>"
      ]
     },
     "metadata": {
      "needs_background": "light"
     },
     "output_type": "display_data"
    }
   ],
   "source": [
    "_ = sns.heatmap(recoded.corr())"
   ]
  },
  {
   "cell_type": "markdown",
   "id": "7ec64ca7-dc28-482d-baa4-8afa9d637405",
   "metadata": {},
   "source": [
    "### Visualizing Correlations\n",
    "\n",
    "Begin creating a few plots of Lifetime Giving with different correlated features. "
   ]
  },
  {
   "cell_type": "code",
   "execution_count": 114,
   "id": "3f664a3f-c49a-4e07-ae51-3e05de502974",
   "metadata": {},
   "outputs": [
    {
     "data": {
      "image/png": "[encoded data removed]",
      "text/plain": [
       "<Figure size 432x288 with 1 Axes>"
      ]
     },
     "metadata": {
      "needs_background": "light"
     },
     "output_type": "display_data"
    }
   ],
   "source": [
    "x = recoded['Lifetime giving']\n",
    "y = recoded['Latest gift amount']\n",
    "\n",
    "# Add regression line\n",
    "z = np.polyfit(x, y, 1)\n",
    "p = np.poly1d(z)\n",
    "plt.plot(x, p(x), \"r--\")\n",
    "\n",
    "plt.scatter(x, y)\n",
    "\n",
    "#add axis labels\n",
    "plt.xlabel('Lifetime giving')\n",
    "plt.ylabel('Latest gift amount')\n",
    "plt.show()"
   ]
  },
  {
   "cell_type": "code",
   "execution_count": 115,
   "id": "4d4251ef-6fb6-4e39-9a50-2ba0cd1ebfe0",
   "metadata": {},
   "outputs": [
    {
     "data": {
      "text/plain": [
       "<matplotlib.axes._subplots.AxesSubplot at 0x237e6e0d9d0>"
      ]
     },
     "execution_count": 115,
     "metadata": {},
     "output_type": "execute_result"
    },
    {
     "data": {
      "image/png": "[encoded data removed]",
      "text/plain": [
       "<Figure size 432x288 with 1 Axes>"
      ]
     },
     "metadata": {
      "needs_background": "light"
     },
     "output_type": "display_data"
    }
   ],
   "source": [
    "recoded.boxplot(column= ['Lifetime giving'])"
   ]
  },
  {
   "cell_type": "markdown",
   "id": "753a9c04-25fb-4932-bdd9-187ce44b27d7",
   "metadata": {},
   "source": [
    "There are two values that are extreme outliers and potentially skewing the data. After looking at the original data, I realize that both of these are the same constituent, and it may be best to drop them. "
   ]
  },
  {
   "cell_type": "code",
   "execution_count": 116,
   "id": "8744e901-fd65-4ac8-ba68-06a949949af0",
   "metadata": {},
   "outputs": [
    {
     "data": {
      "text/html": [
       "<div>\n",
       "<style scoped>\n",
       "    .dataframe tbody tr th:only-of-type {\n",
       "        vertical-align: middle;\n",
       "    }\n",
       "\n",
       "    .dataframe tbody tr th {\n",
       "        vertical-align: top;\n",
       "    }\n",
       "\n",
       "    .dataframe thead th {\n",
       "        text-align: right;\n",
       "    }\n",
       "</style>\n",
       "<table border=\"1\" class=\"dataframe\">\n",
       "  <thead>\n",
       "    <tr style=\"text-align: right;\">\n",
       "      <th></th>\n",
       "      <th>Constituent ID</th>\n",
       "      <th>Lifetime giving</th>\n",
       "      <th>First gift amount</th>\n",
       "      <th>Latest gift amount</th>\n",
       "      <th>Greatest gift amount</th>\n",
       "      <th>Spouse</th>\n",
       "      <th>BPI - Bass Society</th>\n",
       "      <th>Committee, WSF Board+</th>\n",
       "      <th>Committees, Outside</th>\n",
       "      <th>Legacy</th>\n",
       "      <th>...</th>\n",
       "      <th>No WSF Enews</th>\n",
       "      <th>Phantom Record</th>\n",
       "      <th>Private Nonoperating Foundation</th>\n",
       "      <th>Private Operating Foundation</th>\n",
       "      <th>Public Charity</th>\n",
       "      <th>Educational Organization</th>\n",
       "      <th>Governmental Organization</th>\n",
       "      <th>Other</th>\n",
       "      <th>Religious Organization</th>\n",
       "      <th>Donor Tier</th>\n",
       "    </tr>\n",
       "  </thead>\n",
       "  <tbody>\n",
       "    <tr>\n",
       "      <th>2</th>\n",
       "      <td>1996.MID.00222</td>\n",
       "      <td>19500035.73</td>\n",
       "      <td>30000.00</td>\n",
       "      <td>202359.50</td>\n",
       "      <td>488854.91</td>\n",
       "      <td>1</td>\n",
       "      <td>0.0</td>\n",
       "      <td>0.0</td>\n",
       "      <td>0.0</td>\n",
       "      <td>1</td>\n",
       "      <td>...</td>\n",
       "      <td>0</td>\n",
       "      <td>0</td>\n",
       "      <td>0</td>\n",
       "      <td>0</td>\n",
       "      <td>0</td>\n",
       "      <td>0</td>\n",
       "      <td>0</td>\n",
       "      <td>0</td>\n",
       "      <td>0</td>\n",
       "      <td>$25,000+</td>\n",
       "    </tr>\n",
       "    <tr>\n",
       "      <th>3</th>\n",
       "      <td>2019.1118</td>\n",
       "      <td>15343682.62</td>\n",
       "      <td>6574304.06</td>\n",
       "      <td>17854.74</td>\n",
       "      <td>6574304.06</td>\n",
       "      <td>0</td>\n",
       "      <td>0.0</td>\n",
       "      <td>0.0</td>\n",
       "      <td>0.0</td>\n",
       "      <td>0</td>\n",
       "      <td>...</td>\n",
       "      <td>0</td>\n",
       "      <td>0</td>\n",
       "      <td>0</td>\n",
       "      <td>0</td>\n",
       "      <td>0</td>\n",
       "      <td>0</td>\n",
       "      <td>0</td>\n",
       "      <td>0</td>\n",
       "      <td>0</td>\n",
       "      <td>$25,000+</td>\n",
       "    </tr>\n",
       "    <tr>\n",
       "      <th>4</th>\n",
       "      <td>2007.2694</td>\n",
       "      <td>13258908.58</td>\n",
       "      <td>25000.00</td>\n",
       "      <td>260839.66</td>\n",
       "      <td>6359311.95</td>\n",
       "      <td>0</td>\n",
       "      <td>0.0</td>\n",
       "      <td>0.0</td>\n",
       "      <td>0.0</td>\n",
       "      <td>0</td>\n",
       "      <td>...</td>\n",
       "      <td>0</td>\n",
       "      <td>0</td>\n",
       "      <td>0</td>\n",
       "      <td>0</td>\n",
       "      <td>1</td>\n",
       "      <td>0</td>\n",
       "      <td>0</td>\n",
       "      <td>0</td>\n",
       "      <td>0</td>\n",
       "      <td>$25,000+</td>\n",
       "    </tr>\n",
       "    <tr>\n",
       "      <th>5</th>\n",
       "      <td>2007.5756</td>\n",
       "      <td>13021879.81</td>\n",
       "      <td>493900.00</td>\n",
       "      <td>1000000.00</td>\n",
       "      <td>1439000.00</td>\n",
       "      <td>1</td>\n",
       "      <td>0.0</td>\n",
       "      <td>0.0</td>\n",
       "      <td>0.0</td>\n",
       "      <td>1</td>\n",
       "      <td>...</td>\n",
       "      <td>1</td>\n",
       "      <td>0</td>\n",
       "      <td>0</td>\n",
       "      <td>0</td>\n",
       "      <td>0</td>\n",
       "      <td>0</td>\n",
       "      <td>0</td>\n",
       "      <td>0</td>\n",
       "      <td>0</td>\n",
       "      <td>$25,000+</td>\n",
       "    </tr>\n",
       "    <tr>\n",
       "      <th>6</th>\n",
       "      <td>2010.161</td>\n",
       "      <td>13001377.74</td>\n",
       "      <td>493900.00</td>\n",
       "      <td>1000000.00</td>\n",
       "      <td>1439000.00</td>\n",
       "      <td>1</td>\n",
       "      <td>0.0</td>\n",
       "      <td>1.0</td>\n",
       "      <td>0.0</td>\n",
       "      <td>1</td>\n",
       "      <td>...</td>\n",
       "      <td>0</td>\n",
       "      <td>0</td>\n",
       "      <td>0</td>\n",
       "      <td>0</td>\n",
       "      <td>0</td>\n",
       "      <td>0</td>\n",
       "      <td>0</td>\n",
       "      <td>0</td>\n",
       "      <td>0</td>\n",
       "      <td>$25,000+</td>\n",
       "    </tr>\n",
       "  </tbody>\n",
       "</table>\n",
       "<p>5 rows × 158 columns</p>\n",
       "</div>"
      ],
      "text/plain": [
       "   Constituent ID  Lifetime giving  First gift amount  Latest gift amount  \\\n",
       "2  1996.MID.00222      19500035.73           30000.00           202359.50   \n",
       "3       2019.1118      15343682.62         6574304.06            17854.74   \n",
       "4       2007.2694      13258908.58           25000.00           260839.66   \n",
       "5       2007.5756      13021879.81          493900.00          1000000.00   \n",
       "6        2010.161      13001377.74          493900.00          1000000.00   \n",
       "\n",
       "   Greatest gift amount  Spouse  BPI - Bass Society  Committee, WSF Board+  \\\n",
       "2             488854.91       1                 0.0                    0.0   \n",
       "3            6574304.06       0                 0.0                    0.0   \n",
       "4            6359311.95       0                 0.0                    0.0   \n",
       "5            1439000.00       1                 0.0                    0.0   \n",
       "6            1439000.00       1                 0.0                    1.0   \n",
       "\n",
       "   Committees, Outside  Legacy  ...  No WSF Enews  Phantom Record  \\\n",
       "2                  0.0       1  ...             0               0   \n",
       "3                  0.0       0  ...             0               0   \n",
       "4                  0.0       0  ...             0               0   \n",
       "5                  0.0       1  ...             1               0   \n",
       "6                  0.0       1  ...             0               0   \n",
       "\n",
       "    Private Nonoperating Foundation    Private Operating Foundation   \\\n",
       "2                                  0                               0   \n",
       "3                                  0                               0   \n",
       "4                                  0                               0   \n",
       "5                                  0                               0   \n",
       "6                                  0                               0   \n",
       "\n",
       "    Public Charity   Educational Organization   Governmental Organization   \\\n",
       "2                 0                          0                           0   \n",
       "3                 0                          0                           0   \n",
       "4                 1                          0                           0   \n",
       "5                 0                          0                           0   \n",
       "6                 0                          0                           0   \n",
       "\n",
       "   Other   Religious Organization   Donor Tier  \n",
       "2       0                        0    $25,000+  \n",
       "3       0                        0    $25,000+  \n",
       "4       0                        0    $25,000+  \n",
       "5       0                        0    $25,000+  \n",
       "6       0                        0    $25,000+  \n",
       "\n",
       "[5 rows x 158 columns]"
      ]
     },
     "execution_count": 116,
     "metadata": {},
     "output_type": "execute_result"
    }
   ],
   "source": [
    "#Drop the two rows that are outliers for lifetime giving\n",
    "outdf = recoded.drop([0, 1])\n",
    "outdf.head()"
   ]
  },
  {
   "cell_type": "markdown",
   "id": "612ac4fa-2374-404f-9c93-09803a7cc41f",
   "metadata": {},
   "source": [
    "### Recreate scatter plot after eliminating the significant outliers"
   ]
  },
  {
   "cell_type": "code",
   "execution_count": 117,
   "id": "367d0f04-ed0d-4b05-adec-fbbefc4d2e30",
   "metadata": {},
   "outputs": [
    {
     "data": {
      "image/png": "[encoded data removed]",
      "text/plain": [
       "<Figure size 432x288 with 1 Axes>"
      ]
     },
     "metadata": {
      "needs_background": "light"
     },
     "output_type": "display_data"
    }
   ],
   "source": [
    "# Plot Lifetime Giving by Latest gift\n",
    "x = outdf['Lifetime giving']\n",
    "y = outdf['Latest gift amount']\n",
    "\n",
    "# Add regression line\n",
    "z = np.polyfit(x, y, 1)\n",
    "p = np.poly1d(z)\n",
    "plt.plot(x, p(x), \"r--\")\n",
    "\n",
    "plt.scatter(x, y)\n",
    "\n",
    "#add axis labels\n",
    "plt.xlabel('Lifetime giving')\n",
    "plt.ylabel('Latest gift amount')\n",
    "plt.show()"
   ]
  },
  {
   "cell_type": "code",
   "execution_count": 118,
   "id": "3c53a596-4024-45c4-9906-8403e7788364",
   "metadata": {},
   "outputs": [
    {
     "data": {
      "image/png": "[encoded data removed]",
      "text/plain": [
       "<Figure size 432x288 with 1 Axes>"
      ]
     },
     "metadata": {
      "needs_background": "light"
     },
     "output_type": "display_data"
    }
   ],
   "source": [
    "# Plot Lifetime Giving by greatest gift\n",
    "\n",
    "x = outdf['Lifetime giving']\n",
    "y = outdf['Greatest gift amount']\n",
    "\n",
    "# Add regression line\n",
    "z = np.polyfit(x, y, 1)\n",
    "p = np.poly1d(z)\n",
    "plt.plot(x, p(x), \"r--\")\n",
    "\n",
    "plt.scatter(x, y)\n",
    "\n",
    "#add axis labels\n",
    "plt.xlabel('Lifetime giving')\n",
    "plt.ylabel('Greatest gift amount')\n",
    "plt.show()"
   ]
  },
  {
   "cell_type": "code",
   "execution_count": 119,
   "id": "87c2dbbb-9794-4d3f-996f-68169c40aee4",
   "metadata": {},
   "outputs": [
    {
     "data": {
      "image/png": "[encoded data removed]",
      "text/plain": [
       "<Figure size 432x288 with 1 Axes>"
      ]
     },
     "metadata": {
      "needs_background": "light"
     },
     "output_type": "display_data"
    }
   ],
   "source": [
    "# Plot Lifetime Giving by first gift\n",
    "\n",
    "x = outdf['Lifetime giving']\n",
    "y = outdf['First gift amount']\n",
    "\n",
    "# Add regression line\n",
    "z = np.polyfit(x, y, 1)\n",
    "p = np.poly1d(z)\n",
    "plt.plot(x, p(x), \"r--\")\n",
    "\n",
    "plt.scatter(x, y)\n",
    "\n",
    "#add axis labels\n",
    "plt.xlabel('Lifetime giving')\n",
    "plt.ylabel('First gift amount')\n",
    "plt.show()"
   ]
  },
  {
   "cell_type": "code",
   "execution_count": 120,
   "id": "81fb4c5b-0de0-4d1c-9a67-d4e9366cc859",
   "metadata": {},
   "outputs": [
    {
     "data": {
      "image/png": "[encoded data removed]",
      "text/plain": [
       "<Figure size 432x288 with 1 Axes>"
      ]
     },
     "metadata": {
      "needs_background": "light"
     },
     "output_type": "display_data"
    }
   ],
   "source": [
    "# Plot Lifetime Giving by Events attended\n",
    "\n",
    "x = outdf['Lifetime giving']\n",
    "y = outdf['Events Total']\n",
    "\n",
    "\n",
    "# Add regression line\n",
    "z = np.polyfit(x, y, 1)\n",
    "p = np.poly1d(z)\n",
    "plt.plot(x, p(x), \"r--\")\n",
    "\n",
    "plt.scatter(x, y)\n",
    "\n",
    "#add axis labels\n",
    "plt.xlabel('Lifetime giving')\n",
    "plt.ylabel('Events Total')\n",
    "plt.show()"
   ]
  },
  {
   "cell_type": "code",
   "execution_count": 121,
   "id": "51f391e1-3614-49ec-b787-c9bd127fb234",
   "metadata": {},
   "outputs": [
    {
     "data": {
      "image/png": "[encoded data removed]",
      "text/plain": [
       "<Figure size 432x288 with 1 Axes>"
      ]
     },
     "metadata": {
      "needs_background": "light"
     },
     "output_type": "display_data"
    }
   ],
   "source": [
    "# Plot Lifetime Giving by Gift count\n",
    "\n",
    "x = outdf['Lifetime giving']\n",
    "y = outdf['Gift Count']\n",
    "\n",
    "\n",
    "# Add regression line\n",
    "z = np.polyfit(x, y, 1)\n",
    "p = np.poly1d(z)\n",
    "plt.plot(x, p(x), \"r--\")\n",
    "\n",
    "plt.scatter(x, y)\n",
    "\n",
    "#add axis labels\n",
    "plt.xlabel('Lifetime giving')\n",
    "plt.ylabel('Gift Count')\n",
    "plt.show()"
   ]
  },
  {
   "cell_type": "code",
   "execution_count": 122,
   "id": "36735b9c-ac6b-4c6e-adeb-f93de1762dd7",
   "metadata": {},
   "outputs": [
    {
     "data": {
      "image/png": "[encoded data removed]",
      "text/plain": [
       "<Figure size 432x288 with 1 Axes>"
      ]
     },
     "metadata": {
      "needs_background": "light"
     },
     "output_type": "display_data"
    }
   ],
   "source": [
    "# Plot Greatest Gift by Gift count\n",
    "\n",
    "x = outdf['Greatest gift amount']\n",
    "y = outdf['Gift Count']\n",
    "\n",
    "\n",
    "# Add regression line\n",
    "z = np.polyfit(x, y, 1)\n",
    "p = np.poly1d(z)\n",
    "plt.plot(x, p(x), \"r--\")\n",
    "\n",
    "plt.scatter(x, y)\n",
    "\n",
    "#add axis labels\n",
    "plt.xlabel('Greatest gift amount')\n",
    "plt.ylabel('Gift Count')\n",
    "plt.show()"
   ]
  },
  {
   "cell_type": "markdown",
   "id": "7cde4e60-52be-4f79-baf3-b0fbe5d56391",
   "metadata": {},
   "source": [
    "There do seem to be some correlation, but also clear that there is a lot of variance in the data, and a simple linear regression may not be best model. "
   ]
  },
  {
   "cell_type": "markdown",
   "id": "e21d711f-6a3f-4056-b046-651a32875dda",
   "metadata": {},
   "source": [
    "## Preparing for Machine Learning Models"
   ]
  },
  {
   "cell_type": "code",
   "execution_count": 123,
   "id": "8fc970f3-2b5a-49c0-a3a4-f3b44a276d0e",
   "metadata": {},
   "outputs": [
    {
     "name": "stdout",
     "output_type": "stream",
     "text": [
      "<class 'pandas.core.frame.DataFrame'>\n",
      "Int64Index: 15611 entries, 2 to 15612\n",
      "Data columns (total 158 columns):\n",
      " #    Column                                               Non-Null Count  Dtype   \n",
      "---   ------                                               --------------  -----   \n",
      " 0    Constituent ID                                       15611 non-null  object  \n",
      " 1    Lifetime giving                                      15611 non-null  float64 \n",
      " 2    First gift amount                                    15611 non-null  float64 \n",
      " 3    Latest gift amount                                   15611 non-null  float64 \n",
      " 4    Greatest gift amount                                 15611 non-null  float64 \n",
      " 5    Spouse                                               15611 non-null  int64   \n",
      " 6    BPI - Bass Society                                   15611 non-null  float64 \n",
      " 7    Committee, WSF Board+                                15611 non-null  float64 \n",
      " 8    Committees, Outside                                  15611 non-null  float64 \n",
      " 9    Legacy                                               15611 non-null  int64   \n",
      " 10   Original Building Donor - 2014                       15611 non-null  float64 \n",
      " 11   Stewardship Letters                                  15611 non-null  float64 \n",
      " 12   Echo Award                                           15611 non-null  float64 \n",
      " 13   Professional Advisors                                15611 non-null  float64 \n",
      " 14   Transformational Donor                               15611 non-null  float64 \n",
      " 15   Gift Count                                           15611 non-null  float64 \n",
      " 16   Events Total                                         15611 non-null  int64   \n",
      " 17   Days to First Gift                                   15611 non-null  float64 \n",
      " 18   Days to Greatest Gift                                15611 non-null  float64 \n",
      " 19   Days since Last Gift                                 15611 non-null  float64 \n",
      " 20   Days between First and Last Gift                     15611 non-null  float64 \n",
      " 21   Gift-in-kind                                         15611 non-null  int64   \n",
      " 22   One-time gift                                        15611 non-null  int64   \n",
      " 23   Other                                                15611 non-null  int64   \n",
      " 24   Pledge                                               15611 non-null  int64   \n",
      " 25   Pledge payment                                       15611 non-null  int64   \n",
      " 26   Recurring gift payment                               15611 non-null  int64   \n",
      " 27   Soft credit one-time gift                            15611 non-null  int64   \n",
      " 28   Soft credit other                                    15611 non-null  int64   \n",
      " 29   Soft credit pledge                                   15611 non-null  int64   \n",
      " 30   Soft credit stock/property                           15611 non-null  int64   \n",
      " 31   Soft credit stock/property                           15611 non-null  int64   \n",
      " 32   Stock/property                                       15611 non-null  int64   \n",
      " 33   Stock/property                                       15611 non-null  int64   \n",
      " 34   Gift-in-kind                                         15611 non-null  int64   \n",
      " 35   One-time gift                                        15611 non-null  int64   \n",
      " 36   Other                                                15611 non-null  int64   \n",
      " 37   Pledge                                               15611 non-null  int64   \n",
      " 38   Pledge payment                                       15611 non-null  int64   \n",
      " 39   Recurring gift payment                               15611 non-null  int64   \n",
      " 40   Soft credit one-time gift                            15611 non-null  int64   \n",
      " 41   Soft credit other                                    15611 non-null  int64   \n",
      " 42   Soft credit pledge                                   15611 non-null  int64   \n",
      " 43   Soft credit pledge payment                           15611 non-null  int64   \n",
      " 44   Soft credit stock/property                           15611 non-null  int64   \n",
      " 45   Stock/property                                       15611 non-null  int64   \n",
      " 46   Stock/property                                       15611 non-null  int64   \n",
      " 47   Gift-in-kind                                         15611 non-null  int64   \n",
      " 48   One-time gift                                        15611 non-null  int64   \n",
      " 49   Other                                                15611 non-null  int64   \n",
      " 50   Pledge                                               15611 non-null  int64   \n",
      " 51   Pledge payment                                       15611 non-null  int64   \n",
      " 52   Soft credit one-time gift                            15611 non-null  int64   \n",
      " 53   Soft credit other                                    15611 non-null  int64   \n",
      " 54   Soft credit pledge                                   15611 non-null  int64   \n",
      " 55   Soft credit pledge payment                           15611 non-null  int64   \n",
      " 56   Soft credit stock/property                           15611 non-null  int64   \n",
      " 57   Soft credit stock/property                           15611 non-null  int64   \n",
      " 58   Stock/property                                       15611 non-null  int64   \n",
      " 59   Stock/property                                       15611 non-null  int64   \n",
      " 60   Email                                                15611 non-null  int64   \n",
      " 61   Mailing                                              15611 non-null  int64   \n",
      " 62   Meeting                                              15611 non-null  int64   \n",
      " 63   Phone call                                           15611 non-null  int64   \n",
      " 64   Task/Other                                           15611 non-null  int64   \n",
      " 65   Business                                             15611 non-null  int64   \n",
      " 66   Estate                                               15611 non-null  int64   \n",
      " 67   Foundation                                           15611 non-null  int64   \n",
      " 68   Fundholder Portal Access                             15611 non-null  int64   \n",
      " 69   Grant Payee                                          15611 non-null  int64   \n",
      " 70   Grant Requestor / Recipient                          15611 non-null  int64   \n",
      " 71   Grant Requestor / Recipient - Student                15611 non-null  int64   \n",
      " 72   Individual                                           15611 non-null  int64   \n",
      " 73   Online Review Committee                              15611 non-null  int64   \n",
      " 74   Organization                                         15611 non-null  int64   \n",
      " 75   Professional Advisor                                 15611 non-null  int64   \n",
      " 76   Prospect                                             15611 non-null  int64   \n",
      " 77   Religious Organization                               15611 non-null  int64   \n",
      " 78   Teacher Grant Applicant                              15611 non-null  int64   \n",
      " 79   Volunteer                                            15611 non-null  int64   \n",
      " 80   WSF Board Member - Current                           15611 non-null  int64   \n",
      " 81   WSF Board Member - Former                            15611 non-null  int64   \n",
      " 82   WSF Staff                                            15611 non-null  int64   \n",
      " 83   WSF-Former Staff                                     15611 non-null  int64   \n",
      " 84   Individual                                           15611 non-null  int64   \n",
      " 85   Centennial A                                         15611 non-null  int64   \n",
      " 86   Centennial B                                         15611 non-null  int64   \n",
      " 87   Centennial C                                         15611 non-null  int64   \n",
      " 88   Centennial No                                        15611 non-null  int64   \n",
      " 89   Next Century Ambassadors                             15611 non-null  int64   \n",
      " 90   Cultivation                                          15611 non-null  int64   \n",
      " 91   New Prospect                                         15611 non-null  int64   \n",
      " 92   Pending Ask                                          15611 non-null  int64   \n",
      " 93   Stewardship                                          15611 non-null  int64   \n",
      " 94   BPI                                                  15611 non-null  int64   \n",
      " 95   Carolina Physicians Assoc Doc                        15611 non-null  int64   \n",
      " 96   Elkin                                                15611 non-null  int64   \n",
      " 97   IWAVES                                               15611 non-null  int64   \n",
      " 98   Mailing Recipient                                    15611 non-null  int64   \n",
      " 99   Women's Fund                                         15611 non-null  int64   \n",
      " 100  Female                                               15611 non-null  int64   \n",
      " 101  Unknown                                              15611 non-null  int64   \n",
      " 102  At risk donor                                        15611 non-null  int64   \n",
      " 103  High wealth rating                                   15611 non-null  int64   \n",
      " 104  Higher giving potential                              15611 non-null  int64   \n",
      " 105  Lapsed donor                                         15611 non-null  int64   \n",
      " 106  Lapsing donor                                        15611 non-null  int64   \n",
      " 107  Lost donor                                           15611 non-null  int64   \n",
      " 108  New donor                                            15611 non-null  int64   \n",
      " 109  No contact                                           15611 non-null  int64   \n",
      " 110  No meeting                                           15611 non-null  int64   \n",
      " 111  Overdue pledge                                       15611 non-null  int64   \n",
      " 112  Recent gift                                          15611 non-null  int64   \n",
      " 113  Recent wealth data                                   15611 non-null  int64   \n",
      " 114  Asset Development Committee - Current Member         15611 non-null  int64   \n",
      " 115  Asset Development Committee - Past Member            15611 non-null  int64   \n",
      " 116  BPI Advisory Committee - Current Member              15611 non-null  int64   \n",
      " 117  BPI Advisory Committee - Past Member                 15611 non-null  int64   \n",
      " 118  Community Philanthropy Builders - Current Member     15611 non-null  int64   \n",
      " 119  Community Philanthropy Builders - Past Member        15611 non-null  int64   \n",
      " 120  Next Century Ambassador                              15611 non-null  int64   \n",
      " 121  Racial Equity Advocates                              15611 non-null  int64   \n",
      " 122  Scholarship Application Reviewers - Current Member   15611 non-null  int64   \n",
      " 123  Scholarship Application Reviewers - Past Member      15611 non-null  int64   \n",
      " 124  Women's Fund Advisory Council-Current Member         15611 non-null  int64   \n",
      " 125  Women's Fund Advisory Council-Past Member            15611 non-null  int64   \n",
      " 126  Women's Fund Committee Board-Current Member          15611 non-null  int64   \n",
      " 127  Women's Fund Committee Board-Past Member             15611 non-null  int64   \n",
      " 128  YGA - Alumni Member                                  15611 non-null  int64   \n",
      " 129  Campaign Coordinating Committee                      15611 non-null  int64   \n",
      " 130  Downtown Winston-Salem Partnership                   15611 non-null  int64   \n",
      " 131  Echo Council - Current Member                        15611 non-null  int64   \n",
      " 132  Echo Council - Past Member                           15611 non-null  int64   \n",
      " 133  Echo Grant                                           15611 non-null  int64   \n",
      " 134  Echo Network Board                                   15611 non-null  int64   \n",
      " 135  Forsyth Emerging Issues                              15611 non-null  int64   \n",
      " 136  Jewish Community                                     15611 non-null  int64   \n",
      " 137  Millennium Fund Oversight Executive Committee        15611 non-null  int64   \n",
      " 138  Novant Board                                         15611 non-null  int64   \n",
      " 139  WF Nonprofit or Business Leader List                 15611 non-null  int64   \n",
      " 140  Winston-Salem Alliance                               15611 non-null  int64   \n",
      " 141  No Annual Report                                     15611 non-null  int64   \n",
      " 142  No BPI Enews                                         15611 non-null  int64   \n",
      " 143  No CLF Appeal                                        15611 non-null  int64   \n",
      " 144  No Email, Mail, Phone, or Solicit.                   15611 non-null  int64   \n",
      " 145  No GiftLaw eNewsletter                               15611 non-null  int64   \n",
      " 146  No Mail                                              15611 non-null  int64   \n",
      " 147  No WF Enews                                          15611 non-null  int64   \n",
      " 148  No WSF Enews                                         15611 non-null  int64   \n",
      " 149  Phantom Record                                       15611 non-null  int64   \n",
      " 150   Private Nonoperating Foundation                     15611 non-null  int64   \n",
      " 151   Private Operating Foundation                        15611 non-null  int64   \n",
      " 152   Public Charity                                      15611 non-null  int64   \n",
      " 153  Educational Organization                             15611 non-null  int64   \n",
      " 154  Governmental Organization                            15611 non-null  int64   \n",
      " 155  Other                                                15611 non-null  int64   \n",
      " 156  Religious Organization                               15611 non-null  int64   \n",
      " 157  Donor Tier                                           15611 non-null  category\n",
      "dtypes: category(1), float64(17), int64(139), object(1)\n",
      "memory usage: 18.8+ MB\n"
     ]
    }
   ],
   "source": [
    "# Review info for dataframe\n",
    "outdf.info(verbose=True, show_counts=True)"
   ]
  },
  {
   "cell_type": "code",
   "execution_count": 141,
   "id": "fbc8f2ec-2e6c-46f5-9410-0fab0b6438ad",
   "metadata": {},
   "outputs": [
    {
     "data": {
      "text/html": [
       "<div>\n",
       "<style scoped>\n",
       "    .dataframe tbody tr th:only-of-type {\n",
       "        vertical-align: middle;\n",
       "    }\n",
       "\n",
       "    .dataframe tbody tr th {\n",
       "        vertical-align: top;\n",
       "    }\n",
       "\n",
       "    .dataframe thead th {\n",
       "        text-align: right;\n",
       "    }\n",
       "</style>\n",
       "<table border=\"1\" class=\"dataframe\">\n",
       "  <thead>\n",
       "    <tr style=\"text-align: right;\">\n",
       "      <th></th>\n",
       "      <th>0</th>\n",
       "      <th>1</th>\n",
       "      <th>2</th>\n",
       "      <th>3</th>\n",
       "      <th>4</th>\n",
       "      <th>5</th>\n",
       "      <th>6</th>\n",
       "      <th>7</th>\n",
       "      <th>8</th>\n",
       "      <th>9</th>\n",
       "      <th>...</th>\n",
       "      <th>146</th>\n",
       "      <th>147</th>\n",
       "      <th>148</th>\n",
       "      <th>149</th>\n",
       "      <th>150</th>\n",
       "      <th>151</th>\n",
       "      <th>152</th>\n",
       "      <th>153</th>\n",
       "      <th>154</th>\n",
       "      <th>155</th>\n",
       "    </tr>\n",
       "  </thead>\n",
       "  <tbody>\n",
       "    <tr>\n",
       "      <th>0</th>\n",
       "      <td>39.343146</td>\n",
       "      <td>0.172084</td>\n",
       "      <td>2.283593</td>\n",
       "      <td>2.073024</td>\n",
       "      <td>1.281018</td>\n",
       "      <td>-0.063146</td>\n",
       "      <td>-0.065159</td>\n",
       "      <td>-0.081098</td>\n",
       "      <td>5.469266</td>\n",
       "      <td>-0.024018</td>\n",
       "      <td>...</td>\n",
       "      <td>-0.024018</td>\n",
       "      <td>-0.161746</td>\n",
       "      <td>-0.02118</td>\n",
       "      <td>-0.02996</td>\n",
       "      <td>-0.008004</td>\n",
       "      <td>-0.111883</td>\n",
       "      <td>-0.028869</td>\n",
       "      <td>-0.017899</td>\n",
       "      <td>-0.028869</td>\n",
       "      <td>-0.046719</td>\n",
       "    </tr>\n",
       "    <tr>\n",
       "      <th>1</th>\n",
       "      <td>30.933831</td>\n",
       "      <td>52.487240</td>\n",
       "      <td>0.137092</td>\n",
       "      <td>28.969013</td>\n",
       "      <td>-0.780629</td>\n",
       "      <td>-0.063146</td>\n",
       "      <td>-0.065159</td>\n",
       "      <td>-0.081098</td>\n",
       "      <td>-0.182840</td>\n",
       "      <td>-0.024018</td>\n",
       "      <td>...</td>\n",
       "      <td>-0.024018</td>\n",
       "      <td>-0.161746</td>\n",
       "      <td>-0.02118</td>\n",
       "      <td>-0.02996</td>\n",
       "      <td>-0.008004</td>\n",
       "      <td>-0.111883</td>\n",
       "      <td>-0.028869</td>\n",
       "      <td>-0.017899</td>\n",
       "      <td>-0.028869</td>\n",
       "      <td>-0.046719</td>\n",
       "    </tr>\n",
       "    <tr>\n",
       "      <th>2</th>\n",
       "      <td>26.715825</td>\n",
       "      <td>0.132114</td>\n",
       "      <td>2.963943</td>\n",
       "      <td>28.018808</td>\n",
       "      <td>-0.780629</td>\n",
       "      <td>-0.063146</td>\n",
       "      <td>-0.065159</td>\n",
       "      <td>-0.081098</td>\n",
       "      <td>-0.182840</td>\n",
       "      <td>-0.024018</td>\n",
       "      <td>...</td>\n",
       "      <td>-0.024018</td>\n",
       "      <td>-0.161746</td>\n",
       "      <td>-0.02118</td>\n",
       "      <td>-0.02996</td>\n",
       "      <td>-0.008004</td>\n",
       "      <td>8.937897</td>\n",
       "      <td>-0.028869</td>\n",
       "      <td>-0.017899</td>\n",
       "      <td>-0.028869</td>\n",
       "      <td>-0.046719</td>\n",
       "    </tr>\n",
       "    <tr>\n",
       "      <th>3</th>\n",
       "      <td>26.236258</td>\n",
       "      <td>3.880500</td>\n",
       "      <td>11.563226</td>\n",
       "      <td>6.272400</td>\n",
       "      <td>1.281018</td>\n",
       "      <td>-0.063146</td>\n",
       "      <td>-0.065159</td>\n",
       "      <td>-0.081098</td>\n",
       "      <td>5.469266</td>\n",
       "      <td>-0.024018</td>\n",
       "      <td>...</td>\n",
       "      <td>-0.024018</td>\n",
       "      <td>6.182525</td>\n",
       "      <td>-0.02118</td>\n",
       "      <td>-0.02996</td>\n",
       "      <td>-0.008004</td>\n",
       "      <td>-0.111883</td>\n",
       "      <td>-0.028869</td>\n",
       "      <td>-0.017899</td>\n",
       "      <td>-0.028869</td>\n",
       "      <td>-0.046719</td>\n",
       "    </tr>\n",
       "    <tr>\n",
       "      <th>4</th>\n",
       "      <td>26.194777</td>\n",
       "      <td>3.880500</td>\n",
       "      <td>11.563226</td>\n",
       "      <td>6.272400</td>\n",
       "      <td>1.281018</td>\n",
       "      <td>-0.063146</td>\n",
       "      <td>15.346997</td>\n",
       "      <td>-0.081098</td>\n",
       "      <td>5.469266</td>\n",
       "      <td>-0.024018</td>\n",
       "      <td>...</td>\n",
       "      <td>-0.024018</td>\n",
       "      <td>-0.161746</td>\n",
       "      <td>-0.02118</td>\n",
       "      <td>-0.02996</td>\n",
       "      <td>-0.008004</td>\n",
       "      <td>-0.111883</td>\n",
       "      <td>-0.028869</td>\n",
       "      <td>-0.017899</td>\n",
       "      <td>-0.028869</td>\n",
       "      <td>-0.046719</td>\n",
       "    </tr>\n",
       "  </tbody>\n",
       "</table>\n",
       "<p>5 rows × 156 columns</p>\n",
       "</div>"
      ],
      "text/plain": [
       "         0          1          2          3         4         5          6    \\\n",
       "0  39.343146   0.172084   2.283593   2.073024  1.281018 -0.063146  -0.065159   \n",
       "1  30.933831  52.487240   0.137092  28.969013 -0.780629 -0.063146  -0.065159   \n",
       "2  26.715825   0.132114   2.963943  28.018808 -0.780629 -0.063146  -0.065159   \n",
       "3  26.236258   3.880500  11.563226   6.272400  1.281018 -0.063146  -0.065159   \n",
       "4  26.194777   3.880500  11.563226   6.272400  1.281018 -0.063146  15.346997   \n",
       "\n",
       "        7         8         9    ...       146       147      148      149  \\\n",
       "0 -0.081098  5.469266 -0.024018  ... -0.024018 -0.161746 -0.02118 -0.02996   \n",
       "1 -0.081098 -0.182840 -0.024018  ... -0.024018 -0.161746 -0.02118 -0.02996   \n",
       "2 -0.081098 -0.182840 -0.024018  ... -0.024018 -0.161746 -0.02118 -0.02996   \n",
       "3 -0.081098  5.469266 -0.024018  ... -0.024018  6.182525 -0.02118 -0.02996   \n",
       "4 -0.081098  5.469266 -0.024018  ... -0.024018 -0.161746 -0.02118 -0.02996   \n",
       "\n",
       "        150       151       152       153       154       155  \n",
       "0 -0.008004 -0.111883 -0.028869 -0.017899 -0.028869 -0.046719  \n",
       "1 -0.008004 -0.111883 -0.028869 -0.017899 -0.028869 -0.046719  \n",
       "2 -0.008004  8.937897 -0.028869 -0.017899 -0.028869 -0.046719  \n",
       "3 -0.008004 -0.111883 -0.028869 -0.017899 -0.028869 -0.046719  \n",
       "4 -0.008004 -0.111883 -0.028869 -0.017899 -0.028869 -0.046719  \n",
       "\n",
       "[5 rows x 156 columns]"
      ]
     },
     "execution_count": 141,
     "metadata": {},
     "output_type": "execute_result"
    }
   ],
   "source": [
    "#Standardize the features\n",
    "scalar = StandardScaler()\n",
    "scaled_data = pd.DataFrame(scalar.fit_transform(outdf.iloc[:,1:157]))\n",
    "scaled_data.head()"
   ]
  },
  {
   "cell_type": "code",
   "execution_count": 200,
   "id": "0242d1b3-b7c3-4d0f-b684-4e4f561e16dc",
   "metadata": {},
   "outputs": [],
   "source": [
    "# Identify which columns are features (non-scaled)\n",
    "features = outdf.iloc[:,1:157]\n",
    "\n",
    "#Identify the two columns that are the target (one continous and one categorical)\n",
    "cont_target = pd.DataFrame(outdf.iloc[:,1])\n",
    "cat_target = pd.DataFrame(outdf.iloc[:,-1])\n",
    "\n",
    "#Identify scaled features and continuous target\n",
    "scaled_features = scaled_data.iloc[:,1:156]\n",
    "scaled_target = pd.DataFrame(scaled_data.iloc[:,0])"
   ]
  },
  {
   "cell_type": "code",
   "execution_count": null,
   "id": "05941299-15aa-48f0-8b5e-31e585ef5ca1",
   "metadata": {},
   "outputs": [],
   "source": []
  },
  {
   "cell_type": "markdown",
   "id": "877b49c6-83b9-442a-91c4-bb7c5c935425",
   "metadata": {},
   "source": [
    "## Creating Logistic Regression Model "
   ]
  },
  {
   "cell_type": "code",
   "execution_count": 326,
   "id": "b7f24a9b-7319-433b-8d06-16e116260152",
   "metadata": {},
   "outputs": [],
   "source": [
    "#Splitting data into training and testing\n",
    "train_data, test_data, train_lbl, test_lbl = train_test_split( scaled_features, cat_target, test_size=.2, random_state=0)\n"
   ]
  },
  {
   "cell_type": "code",
   "execution_count": 327,
   "id": "df80dcd1-f130-4ba5-9af7-151af5aed1cc",
   "metadata": {},
   "outputs": [
    {
     "data": {
      "text/plain": [
       "LogisticRegression()"
      ]
     },
     "execution_count": 327,
     "metadata": {},
     "output_type": "execute_result"
    }
   ],
   "source": [
    "# Initialize the logistic regression model\n",
    "logisticRegr = LogisticRegression(solver = 'lbfgs')\n",
    "\n",
    "# Train the Model\n",
    "logisticRegr.fit(train_data, train_lbl)\n"
   ]
  },
  {
   "cell_type": "code",
   "execution_count": 328,
   "id": "2e90baf8-3521-4029-8fca-e94f0c287bda",
   "metadata": {},
   "outputs": [
    {
     "name": "stdout",
     "output_type": "stream",
     "text": [
      "Train accuracy: 0.97\n",
      "Test accuracy: 0.97\n"
     ]
    }
   ],
   "source": [
    "# Make predictions\n",
    "y_pred = logisticRegr.predict(test_data) # Predictions\n",
    "y_true = test_lbl # True values\n",
    "\n",
    "\n",
    "print(\"Train accuracy:\", np.round(accuracy_score(y_train, logisticRegr.predict(X_train)), 2))\n",
    "print(\"Test accuracy:\", np.round(accuracy_score(y_true, y_pred), 2))\n"
   ]
  },
  {
   "cell_type": "code",
   "execution_count": 324,
   "id": "d250a921-625d-4f6e-9d6d-09a8c6b4ed44",
   "metadata": {},
   "outputs": [
    {
     "name": "stdout",
     "output_type": "stream",
     "text": [
      "              precision    recall  f1-score   support\n",
      "\n",
      "         $1+       0.95      0.99      0.97      2758\n",
      "    $10,000+       0.00      0.00      0.00        72\n",
      "    $25,000+       0.79      0.69      0.74       293\n",
      "\n",
      "    accuracy                           0.94      3123\n",
      "   macro avg       0.58      0.56      0.57      3123\n",
      "weighted avg       0.92      0.94      0.93      3123\n",
      "\n"
     ]
    }
   ],
   "source": [
    "print(classification_report(y_true, y_pred))"
   ]
  },
  {
   "cell_type": "code",
   "execution_count": 191,
   "id": "c4174c3f-378b-4fe1-87c4-9e45bc37afc1",
   "metadata": {},
   "outputs": [
    {
     "name": "stdout",
     "output_type": "stream",
     "text": [
      "\n",
      "Test confusion_matrix\n"
     ]
    },
    {
     "data": {
      "text/plain": [
       "Text(33.0, 0.5, 'True')"
      ]
     },
     "execution_count": 191,
     "metadata": {},
     "output_type": "execute_result"
    },
    {
     "data": {
      "image/png": "[encoded data removed]",
      "text/plain": [
       "<Figure size 432x288 with 2 Axes>"
      ]
     },
     "metadata": {
      "needs_background": "light"
     },
     "output_type": "display_data"
    }
   ],
   "source": [
    "# Make the confusion matrix\n",
    "cf_matrix = confusion_matrix(y_true, y_pred)\n",
    "print(\"\\nTest confusion_matrix\")\n",
    "sns.heatmap(cf_matrix, annot=True, cmap='Blues')\n",
    "plt.xlabel('Predicted', fontsize=12)\n",
    "plt.ylabel('True', fontsize=12)"
   ]
  },
  {
   "cell_type": "markdown",
   "id": "a6a8f637-cb0d-42cf-a7fd-4730e9335679",
   "metadata": {},
   "source": [
    "It is surprising that that this model creates an accuracy score of 96%, but I think this is due to the imbalanced nature of the dataset. It can predict the constituent falling into the $1-$1000 bin all the time and still it would be over 90% accurate. \n",
    "\n",
    "But for fundraising it is more important identify which constituents would be donors in the higher tiers.  And actually, it may be beneficial for Foundation staff to engage the ~39 consituents who are predicted to be in highest teir but are in the lowest and middle tiers, since staff may be able to steward them to increase their gifts. "
   ]
  },
  {
   "cell_type": "markdown",
   "id": "e1a90431-4507-4ed6-8cb8-dc49f4fc16e7",
   "metadata": {},
   "source": []
  },
  {
   "cell_type": "markdown",
   "id": "9a4a2099-3e4a-474e-9726-7c00436255b5",
   "metadata": {},
   "source": [
    "### Applying Principal Component Analysis"
   ]
  },
  {
   "cell_type": "code",
   "execution_count": 208,
   "id": "3d623f6a-2641-4baf-b3f1-f478064353f0",
   "metadata": {},
   "outputs": [
    {
     "data": {
      "text/html": [
       "<div>\n",
       "<style scoped>\n",
       "    .dataframe tbody tr th:only-of-type {\n",
       "        vertical-align: middle;\n",
       "    }\n",
       "\n",
       "    .dataframe tbody tr th {\n",
       "        vertical-align: top;\n",
       "    }\n",
       "\n",
       "    .dataframe thead th {\n",
       "        text-align: right;\n",
       "    }\n",
       "</style>\n",
       "<table border=\"1\" class=\"dataframe\">\n",
       "  <thead>\n",
       "    <tr style=\"text-align: right;\">\n",
       "      <th></th>\n",
       "      <th>0</th>\n",
       "      <th>1</th>\n",
       "      <th>2</th>\n",
       "      <th>3</th>\n",
       "      <th>4</th>\n",
       "      <th>5</th>\n",
       "      <th>6</th>\n",
       "      <th>7</th>\n",
       "      <th>8</th>\n",
       "      <th>9</th>\n",
       "      <th>...</th>\n",
       "      <th>15</th>\n",
       "      <th>16</th>\n",
       "      <th>17</th>\n",
       "      <th>18</th>\n",
       "      <th>19</th>\n",
       "      <th>20</th>\n",
       "      <th>21</th>\n",
       "      <th>22</th>\n",
       "      <th>23</th>\n",
       "      <th>24</th>\n",
       "    </tr>\n",
       "  </thead>\n",
       "  <tbody>\n",
       "    <tr>\n",
       "      <th>0</th>\n",
       "      <td>34.071610</td>\n",
       "      <td>25.816570</td>\n",
       "      <td>-0.919578</td>\n",
       "      <td>17.794430</td>\n",
       "      <td>-0.105819</td>\n",
       "      <td>16.915229</td>\n",
       "      <td>-2.900929</td>\n",
       "      <td>5.207816</td>\n",
       "      <td>3.256618</td>\n",
       "      <td>0.936866</td>\n",
       "      <td>...</td>\n",
       "      <td>0.247256</td>\n",
       "      <td>-1.054271</td>\n",
       "      <td>-6.929479</td>\n",
       "      <td>0.525868</td>\n",
       "      <td>-0.259098</td>\n",
       "      <td>1.326088</td>\n",
       "      <td>2.285988</td>\n",
       "      <td>-3.000248</td>\n",
       "      <td>0.233215</td>\n",
       "      <td>-5.316866</td>\n",
       "    </tr>\n",
       "    <tr>\n",
       "      <th>1</th>\n",
       "      <td>7.448663</td>\n",
       "      <td>4.496782</td>\n",
       "      <td>8.432204</td>\n",
       "      <td>24.592153</td>\n",
       "      <td>0.116146</td>\n",
       "      <td>39.811120</td>\n",
       "      <td>13.171954</td>\n",
       "      <td>-24.337337</td>\n",
       "      <td>1.491019</td>\n",
       "      <td>0.834981</td>\n",
       "      <td>...</td>\n",
       "      <td>-4.053700</td>\n",
       "      <td>-4.393459</td>\n",
       "      <td>5.866654</td>\n",
       "      <td>2.523042</td>\n",
       "      <td>2.884141</td>\n",
       "      <td>-4.172318</td>\n",
       "      <td>-5.112943</td>\n",
       "      <td>0.155208</td>\n",
       "      <td>-5.148452</td>\n",
       "      <td>-2.947062</td>\n",
       "    </tr>\n",
       "    <tr>\n",
       "      <th>2</th>\n",
       "      <td>5.125789</td>\n",
       "      <td>4.006535</td>\n",
       "      <td>16.651754</td>\n",
       "      <td>13.007134</td>\n",
       "      <td>-0.880933</td>\n",
       "      <td>17.898714</td>\n",
       "      <td>6.927905</td>\n",
       "      <td>-11.206774</td>\n",
       "      <td>1.813370</td>\n",
       "      <td>0.832613</td>\n",
       "      <td>...</td>\n",
       "      <td>-2.112848</td>\n",
       "      <td>-8.613687</td>\n",
       "      <td>-2.407924</td>\n",
       "      <td>-0.895127</td>\n",
       "      <td>0.238874</td>\n",
       "      <td>5.485471</td>\n",
       "      <td>-1.414499</td>\n",
       "      <td>-1.087312</td>\n",
       "      <td>-1.605443</td>\n",
       "      <td>1.042692</td>\n",
       "    </tr>\n",
       "    <tr>\n",
       "      <th>3</th>\n",
       "      <td>20.486802</td>\n",
       "      <td>5.921695</td>\n",
       "      <td>1.039622</td>\n",
       "      <td>11.881920</td>\n",
       "      <td>-0.377445</td>\n",
       "      <td>14.051288</td>\n",
       "      <td>5.790433</td>\n",
       "      <td>-9.730555</td>\n",
       "      <td>-0.260415</td>\n",
       "      <td>1.731033</td>\n",
       "      <td>...</td>\n",
       "      <td>0.901784</td>\n",
       "      <td>-4.229680</td>\n",
       "      <td>-2.952762</td>\n",
       "      <td>4.677183</td>\n",
       "      <td>2.615871</td>\n",
       "      <td>4.350468</td>\n",
       "      <td>-3.559060</td>\n",
       "      <td>4.513763</td>\n",
       "      <td>7.522425</td>\n",
       "      <td>5.326406</td>\n",
       "    </tr>\n",
       "    <tr>\n",
       "      <th>4</th>\n",
       "      <td>29.239856</td>\n",
       "      <td>23.437811</td>\n",
       "      <td>0.468684</td>\n",
       "      <td>8.722249</td>\n",
       "      <td>0.969954</td>\n",
       "      <td>20.456320</td>\n",
       "      <td>9.319799</td>\n",
       "      <td>-7.552592</td>\n",
       "      <td>5.150078</td>\n",
       "      <td>4.497456</td>\n",
       "      <td>...</td>\n",
       "      <td>2.902517</td>\n",
       "      <td>16.367311</td>\n",
       "      <td>-7.429905</td>\n",
       "      <td>-0.849432</td>\n",
       "      <td>-10.062839</td>\n",
       "      <td>13.039991</td>\n",
       "      <td>10.369738</td>\n",
       "      <td>8.894694</td>\n",
       "      <td>0.286868</td>\n",
       "      <td>-13.530045</td>\n",
       "    </tr>\n",
       "  </tbody>\n",
       "</table>\n",
       "<p>5 rows × 25 columns</p>\n",
       "</div>"
      ],
      "text/plain": [
       "          0          1          2          3         4          5          6   \\\n",
       "0  34.071610  25.816570  -0.919578  17.794430 -0.105819  16.915229  -2.900929   \n",
       "1   7.448663   4.496782   8.432204  24.592153  0.116146  39.811120  13.171954   \n",
       "2   5.125789   4.006535  16.651754  13.007134 -0.880933  17.898714   6.927905   \n",
       "3  20.486802   5.921695   1.039622  11.881920 -0.377445  14.051288   5.790433   \n",
       "4  29.239856  23.437811   0.468684   8.722249  0.969954  20.456320   9.319799   \n",
       "\n",
       "          7         8         9   ...        15         16        17  \\\n",
       "0   5.207816  3.256618  0.936866  ...  0.247256  -1.054271 -6.929479   \n",
       "1 -24.337337  1.491019  0.834981  ... -4.053700  -4.393459  5.866654   \n",
       "2 -11.206774  1.813370  0.832613  ... -2.112848  -8.613687 -2.407924   \n",
       "3  -9.730555 -0.260415  1.731033  ...  0.901784  -4.229680 -2.952762   \n",
       "4  -7.552592  5.150078  4.497456  ...  2.902517  16.367311 -7.429905   \n",
       "\n",
       "         18         19         20         21        22        23         24  \n",
       "0  0.525868  -0.259098   1.326088   2.285988 -3.000248  0.233215  -5.316866  \n",
       "1  2.523042   2.884141  -4.172318  -5.112943  0.155208 -5.148452  -2.947062  \n",
       "2 -0.895127   0.238874   5.485471  -1.414499 -1.087312 -1.605443   1.042692  \n",
       "3  4.677183   2.615871   4.350468  -3.559060  4.513763  7.522425   5.326406  \n",
       "4 -0.849432 -10.062839  13.039991  10.369738  8.894694  0.286868 -13.530045  \n",
       "\n",
       "[5 rows x 25 columns]"
      ]
     },
     "execution_count": 208,
     "metadata": {},
     "output_type": "execute_result"
    }
   ],
   "source": [
    "#Setting number of Principal Components\n",
    "pca = PCA(n_components = 25)\n",
    "pca.fit(scaled_data)\n",
    "data_pca = pca.transform(scaled_data)\n",
    "data_pca = pd.DataFrame(data_pca)\n",
    "data_pca.head()"
   ]
  },
  {
   "cell_type": "code",
   "execution_count": 198,
   "id": "f41515c2-3ba0-474c-a66e-140be5d01860",
   "metadata": {},
   "outputs": [
    {
     "data": {
      "text/plain": [
       "<matplotlib.axes._subplots.AxesSubplot at 0x237f002b130>"
      ]
     },
     "execution_count": 198,
     "metadata": {},
     "output_type": "execute_result"
    },
    {
     "data": {
      "image/png": "[encoded data removed]",
      "text/plain": [
       "<Figure size 432x288 with 2 Axes>"
      ]
     },
     "metadata": {
      "needs_background": "light"
     },
     "output_type": "display_data"
    }
   ],
   "source": [
    "#Checking Co-relation between features after PCA\n",
    "sns.heatmap(data_pca.corr())"
   ]
  },
  {
   "cell_type": "code",
   "execution_count": 209,
   "id": "85f815da-c7dc-4829-857c-5298db48f8f4",
   "metadata": {},
   "outputs": [
    {
     "data": {
      "text/plain": [
       "<matplotlib.axes._subplots.AxesSubplot at 0x237800df7f0>"
      ]
     },
     "execution_count": 209,
     "metadata": {},
     "output_type": "execute_result"
    },
    {
     "data": {
      "image/png": "[encoded data removed]",
      "text/plain": [
       "<Figure size 864x432 with 2 Axes>"
      ]
     },
     "metadata": {
      "needs_background": "light"
     },
     "output_type": "display_data"
    }
   ],
   "source": [
    "#Check feature importance in both PCAs\n",
    "map= pd.DataFrame(pca.components_, columns=features.columns.values)\n",
    "plt.figure(figsize=(12,6))\n",
    "sns.heatmap(map,cmap='twilight')"
   ]
  },
  {
   "cell_type": "code",
   "execution_count": 212,
   "id": "e05c052a-52c7-4969-b251-ea3396c8c1ad",
   "metadata": {},
   "outputs": [
    {
     "name": "stdout",
     "output_type": "stream",
     "text": [
      "Variances (Percentage):\n",
      "[5.33354491 2.63146243 2.34947111 2.02947337 1.69450817 1.64250945\n",
      " 1.51451014 1.48475838 1.40467723 1.37587321 1.37023174 1.29808442\n",
      " 1.22445475 1.18157645 1.1470049  1.12235926 1.07212742 1.04956588\n",
      " 1.02684853 0.99723119 0.97440936 0.94958925 0.92671065 0.90122827\n",
      " 0.88148403]\n"
     ]
    }
   ],
   "source": [
    "#Check how much each of these Principal Components explain the data\n",
    "print(\"Variances (Percentage):\")\n",
    "print(pca.explained_variance_ratio_ * 100)"
   ]
  },
  {
   "cell_type": "markdown",
   "id": "c8d20901-77aa-4d1c-8eb8-0248ac9acfc4",
   "metadata": {},
   "source": [
    "There isn't a stand-out feature that comprises a major part of either PCs, most of them around 2%-5%. And similarly the two PCA's only explain 2%-5% of the variance in the data. This means that it may be hard to create a strong predictive model with just two PCAs. This is confirmed by the plot below that shows that the target variables significantly overlap and are not distinct. "
   ]
  },
  {
   "cell_type": "markdown",
   "id": "f76737bb-2a98-4974-85a2-ed15da687500",
   "metadata": {},
   "source": [
    "#### Plotting two dimensional PCA"
   ]
  },
  {
   "cell_type": "code",
   "execution_count": 251,
   "id": "9081f5e9-56d6-4b90-b714-2002981b1bb1",
   "metadata": {},
   "outputs": [
    {
     "data": {
      "image/png": "[encoded data removed]",
      "text/plain": [
       "<Figure size 576x576 with 1 Axes>"
      ]
     },
     "metadata": {
      "needs_background": "light"
     },
     "output_type": "display_data"
    }
   ],
   "source": [
    "# Merge PCA data with categorical data\n",
    "finalDF = pd.concat([data_pca, cat_target], axis = 1)\n",
    "# finalDF.info()\n",
    "\n",
    "# Plot two Principle Componenets \n",
    "\n",
    "fig = plt.figure(figsize = (8,8))\n",
    "ax = fig.add_subplot(1,1,1) \n",
    "ax.set_xlabel('Principal Component 1', fontsize = 15)\n",
    "ax.set_ylabel('Principal Component 2', fontsize = 15)\n",
    "ax.set_title('The Principal Components are not distinct', fontsize = 20)\n",
    "targets = ['$1+','$10,000+','$25,000+'] \n",
    "colors = ['g', 'm','orange']\n",
    "\n",
    "for target, color in zip(targets,colors):\n",
    "    indicesToKeep = finalDf['Donor Tier']  == target\n",
    "    ax.scatter(finalDf.loc[indicesToKeep, 'PC1'] , finalDf.loc[indicesToKeep, 'PC2'] , c = color, s = 50)\n",
    "ax.legend(targets)\n",
    "ax.grid()"
   ]
  },
  {
   "cell_type": "code",
   "execution_count": 211,
   "id": "a68b3e2d-72fc-4089-8ee1-15e533cd8ffd",
   "metadata": {},
   "outputs": [
    {
     "data": {
      "text/plain": [
       "Text(0, 0.5, 'Explained variance (%)')"
      ]
     },
     "execution_count": 211,
     "metadata": {},
     "output_type": "execute_result"
    },
    {
     "data": {
      "image/png": "[encoded data removed]",
      "text/plain": [
       "<Figure size 432x288 with 1 Axes>"
      ]
     },
     "metadata": {
      "needs_background": "light"
     },
     "output_type": "display_data"
    }
   ],
   "source": [
    "# Make the scree plot\n",
    "plt.plot(np.cumsum(pca.explained_variance_ratio_ * 100))\n",
    "plt.xlabel(\"Number of components (Dimensions)\")\n",
    "plt.ylabel(\"Explained variance (%)\")"
   ]
  },
  {
   "cell_type": "markdown",
   "id": "a6e47d41-a6e1-40ea-ab2e-a4ac25e451b0",
   "metadata": {},
   "source": [
    "There is no clear elbow in the skree plot indicating how many PCs would be beneficial. Reviwing the variance percent of the PCs is also unclear. Perhaps around 16, when the individual PC's variance drops below 1%, but then you are still only explaining about 25% of the variance overall. "
   ]
  },
  {
   "cell_type": "markdown",
   "id": "623533bd-02c2-4e3c-b751-0b7fcd5768ef",
   "metadata": {},
   "source": [
    "### Applying KNN to data"
   ]
  },
  {
   "cell_type": "code",
   "execution_count": 286,
   "id": "c8446924-db84-40c9-8ada-20e1e3fa0b11",
   "metadata": {},
   "outputs": [],
   "source": [
    "#Setting the Target and Features\n",
    "X = scaled_features.values\n",
    "y = cat_target.values\n",
    "\n",
    "#Split into training and testing\n",
    "X_train, X_test, y_train, y_test = train_test_split(X, y, test_size=0.2, random_state=24)"
   ]
  },
  {
   "cell_type": "code",
   "execution_count": 287,
   "id": "32daf1b8-8bfc-42f5-aeba-9fcfcd132520",
   "metadata": {},
   "outputs": [
    {
     "data": {
      "text/plain": [
       "KNeighborsClassifier(n_jobs=-1, n_neighbors=1)"
      ]
     },
     "execution_count": 287,
     "metadata": {},
     "output_type": "execute_result"
    }
   ],
   "source": [
    "#Setting KNN Classifier\n",
    "#define and fit our model\n",
    "model = KNeighborsClassifier(n_neighbors=1, n_jobs=-1)\n",
    "model.fit(X_train, y_train)"
   ]
  },
  {
   "cell_type": "code",
   "execution_count": 288,
   "id": "d91961b8-6dbb-4691-8c81-4031e7fe4be3",
   "metadata": {
    "tags": []
   },
   "outputs": [
    {
     "name": "stdout",
     "output_type": "stream",
     "text": [
      "              precision    recall  f1-score   support\n",
      "\n",
      "         $1+       0.96      0.97      0.97      2766\n",
      "    $10,000+       0.14      0.15      0.15        81\n",
      "    $25,000+       0.74      0.61      0.67       276\n",
      "\n",
      "    accuracy                           0.92      3123\n",
      "   macro avg       0.62      0.58      0.59      3123\n",
      "weighted avg       0.92      0.92      0.92      3123\n",
      "\n"
     ]
    }
   ],
   "source": [
    "# gather the predictations that our model made for our test set\n",
    "preds = model.predict(X_test)\n",
    "\n",
    "#Test the accuracy of the model when the k vlaue is 1\n",
    "print(classification_report(y_test, preds))"
   ]
  },
  {
   "cell_type": "code",
   "execution_count": 289,
   "id": "1ddb2def-ba56-4287-910d-70eb22154288",
   "metadata": {},
   "outputs": [
    {
     "data": {
      "text/plain": [
       "[0.925392251040666,\n",
       " 0.9333973743195645,\n",
       " 0.9298751200768491,\n",
       " 0.9333973743195645,\n",
       " 0.9324367595260967,\n",
       " 0.9324367595260967,\n",
       " 0.9324367595260967,\n",
       " 0.9330771693884086,\n",
       " 0.9327569644572526,\n",
       " 0.9321165545949408,\n",
       " 0.9317963496637848,\n",
       " 0.9321165545949408,\n",
       " 0.9317963496637848,\n",
       " 0.9311559398014729,\n",
       " 0.9301953250080052,\n",
       " 0.9285943003522255,\n",
       " 0.9298751200768491,\n",
       " 0.9285943003522255,\n",
       " 0.9292347102145373]"
      ]
     },
     "execution_count": 289,
     "metadata": {},
     "output_type": "execute_result"
    }
   ],
   "source": [
    "# Create a for loop that will test the accuracy of each k value between 2 and 20, and an empty array to hold the accuracy rates. \n",
    "accuracy = []\n",
    "for k in range(2, 21):\n",
    "    # n_jobs=-1 will use all processors on your system\n",
    "    model = KNeighborsClassifier(n_neighbors=k, n_jobs=-1)\n",
    "    model.fit(X_train, y_train)\n",
    "    accuracy.append(model.score(X_test, y_test))\n",
    "\n",
    "# Display the accuracy rates\n",
    "accuracy"
   ]
  },
  {
   "cell_type": "code",
   "execution_count": 290,
   "id": "a97d16e8-6c37-4c5b-906e-614aac218fb7",
   "metadata": {},
   "outputs": [
    {
     "data": {
      "image/png": "[encoded data removed]",
      "text/plain": [
       "<Figure size 432x288 with 1 Axes>"
      ]
     },
     "metadata": {
      "needs_background": "light"
     },
     "output_type": "display_data"
    }
   ],
   "source": [
    "# display the results\n",
    "plt.plot(range(2, 21), accuracy)\n",
    "plt.scatter(range(2, 21), accuracy)\n",
    "plt.grid()\n",
    "_ =plt.xticks(range(2, 21))"
   ]
  },
  {
   "cell_type": "code",
   "execution_count": 296,
   "id": "95f3063c-6e8b-4a75-ba20-5ad642283057",
   "metadata": {},
   "outputs": [
    {
     "name": "stdout",
     "output_type": "stream",
     "text": [
      "              precision    recall  f1-score   support\n",
      "\n",
      "         $1+       0.95      0.99      0.97      2766\n",
      "    $10,000+       0.16      0.06      0.09        81\n",
      "    $25,000+       0.80      0.61      0.69       276\n",
      "\n",
      "    accuracy                           0.93      3123\n",
      "   macro avg       0.64      0.56      0.58      3123\n",
      "weighted avg       0.92      0.93      0.92      3123\n",
      "\n"
     ]
    }
   ],
   "source": [
    "#Creating a KNN model with k value beign 3\n",
    "model_3 = KNeighborsClassifier(n_neighbors=3, n_jobs=-1)\n",
    "model_3.fit(X_train, y_train)\n",
    "\n",
    "# gather the predictations that our model made for our test set\n",
    "preds_3 = model_3.predict(X_test)\n",
    "print(classification_report(y_test, preds_3))\n"
   ]
  },
  {
   "cell_type": "code",
   "execution_count": 300,
   "id": "441c32d2-b7b0-4f8e-838d-f7a4ada0fa4b",
   "metadata": {},
   "outputs": [],
   "source": [
    "#Setting the Target and Features\n",
    "X = scaled_features.values\n",
    "y = cat_target.values\n",
    "\n",
    "#Split into training and testing\n",
    "X2_train, X2_test, y2_train, y2_test = train_test_split(X, y, test_size=0.2, random_state=36)"
   ]
  },
  {
   "cell_type": "code",
   "execution_count": 301,
   "id": "82047046-a92a-4efc-b8a6-27981fbab5cb",
   "metadata": {},
   "outputs": [
    {
     "data": {
      "text/plain": [
       "[0.925392251040666,\n",
       " 0.9356388088376562,\n",
       " 0.9327569644572526,\n",
       " 0.9375600384245918,\n",
       " 0.936279218699968,\n",
       " 0.9372398334934358,\n",
       " 0.9365994236311239,\n",
       " 0.9369196285622798,\n",
       " 0.9372398334934358,\n",
       " 0.9385206532180596,\n",
       " 0.9356388088376562,\n",
       " 0.936279218699968,\n",
       " 0.9353186039065001,\n",
       " 0.9346781940441883,\n",
       " 0.9346781940441883,\n",
       " 0.9343579891130324,\n",
       " 0.9343579891130324,\n",
       " 0.9343579891130324,\n",
       " 0.9330771693884086]"
      ]
     },
     "execution_count": 301,
     "metadata": {},
     "output_type": "execute_result"
    }
   ],
   "source": [
    "#Creating MinMax Object and then transforming the feature values to be between '0' and '1'\n",
    "mm = preprocessing.MinMaxScaler()\n",
    "X2_train = mm.fit_transform(X2_train)\n",
    "X2_test = mm.transform(X2_test)\n",
    "\n",
    "# Create a for loop that will test the accuracy of each k value between 2 and 20, and an empty array to hold the accuracy rates. \n",
    "accuracy2 = []\n",
    "for k in range(2, 21):\n",
    "    # n_jobs=-1 will use all processors on your system\n",
    "    model = KNeighborsClassifier(n_neighbors=k, n_jobs=-1)\n",
    "    model.fit(X2_train, y2_train)\n",
    "    accuracy2.append(model.score(X2_test, y2_test))\n",
    "\n",
    "# Display the accuracy rates\n",
    "accuracy2"
   ]
  },
  {
   "cell_type": "code",
   "execution_count": 302,
   "id": "2eb1396d-39e5-4909-a463-76773650616f",
   "metadata": {},
   "outputs": [
    {
     "data": {
      "image/png": "[encoded data removed]",
      "text/plain": [
       "<Figure size 432x288 with 1 Axes>"
      ]
     },
     "metadata": {
      "needs_background": "light"
     },
     "output_type": "display_data"
    }
   ],
   "source": [
    "# display the results\n",
    "plt.plot(range(2, 21), accuracy2)\n",
    "plt.scatter(range(2, 21), accuracy2)\n",
    "plt.grid()\n",
    "_ =plt.xticks(range(2, 21))"
   ]
  },
  {
   "cell_type": "markdown",
   "id": "9f4af944-3a70-4bec-a7a7-dce7ab419432",
   "metadata": {},
   "source": [
    "Both 5 clusters and 11 clusters have similar accuracy. While 11 is a bit better, I will choose 5 clusters to help avoid overfitting the model"
   ]
  },
  {
   "cell_type": "code",
   "execution_count": 317,
   "id": "274e5ac6-af8e-4a27-be50-5e0d8be34e58",
   "metadata": {},
   "outputs": [
    {
     "name": "stdout",
     "output_type": "stream",
     "text": [
      "              precision    recall  f1-score   support\n",
      "\n",
      "         $1+       0.95      0.99      0.97      2754\n",
      "    $10,000+       0.22      0.06      0.09        69\n",
      "    $25,000+       0.86      0.65      0.74       300\n",
      "\n",
      "    accuracy                           0.94      3123\n",
      "   macro avg       0.68      0.57      0.60      3123\n",
      "weighted avg       0.92      0.94      0.93      3123\n",
      "\n"
     ]
    }
   ],
   "source": [
    "#Creating a KNN model with k value beign 5\n",
    "model_11 = KNeighborsClassifier(n_neighbors=5, n_jobs=-1)\n",
    "model_11.fit(X2_train, y2_train)\n",
    "\n",
    "# gather the predictations that our model made for our test set\n",
    "preds_11 = model_11.predict(X2_test)\n",
    "print(classification_report(y2_test, preds_11))"
   ]
  },
  {
   "cell_type": "code",
   "execution_count": 318,
   "id": "337ff543-319a-4ef6-9aa2-befc1edf9861",
   "metadata": {},
   "outputs": [
    {
     "data": {
      "image/png": "[encoded data removed]",
      "text/plain": [
       "<Figure size 432x288 with 1 Axes>"
      ]
     },
     "metadata": {
      "needs_background": "light"
     },
     "output_type": "display_data"
    }
   ],
   "source": [
    "#Load Data\n",
    "data = scaled_data\n",
    "pca = PCA(2)\n",
    "\n",
    "#Transform the data\n",
    "df = pca.fit_transform(data)\n",
    "\n",
    "#Import KMeans module\n",
    "from sklearn.cluster import KMeans\n",
    "\n",
    "#Initialize the class object\n",
    "kmeans = KMeans(n_clusters= 5)\n",
    "\n",
    "#predict the labels of clusters.\n",
    "label = kmeans.fit_predict(df)\n",
    "\n",
    "#Getting unique labels\n",
    "centroids = kmeans.cluster_centers_\n",
    "u_labels = np.unique(label)\n",
    "\n",
    "#plotting the results:\n",
    "for i in u_labels:\n",
    "    plt.scatter(df[label == i , 0] , df[label == i , 1] , label = i)\n",
    "plt.scatter(centroids[:,0] , centroids[:,1] , s = 80, color = 'k')\n",
    "plt.legend()\n",
    "plt.show()"
   ]
  },
  {
   "cell_type": "code",
   "execution_count": null,
   "id": "c4befd47-a973-4a19-b4b0-a4a3c019c88a",
   "metadata": {},
   "outputs": [],
   "source": []
  },
  {
   "cell_type": "code",
   "execution_count": null,
   "id": "786e501f-8d76-4362-8f34-5b7f6031af83",
   "metadata": {},
   "outputs": [],
   "source": []
  },
  {
   "cell_type": "markdown",
   "id": "6c9402c1-ea98-448c-a94e-c03166b54e6d",
   "metadata": {},
   "source": [
    "## Use PCA to develop Logistic Regression model"
   ]
  },
  {
   "cell_type": "code",
   "execution_count": 214,
   "id": "42b4381c-704f-4553-8c67-45186087f8a3",
   "metadata": {},
   "outputs": [
    {
     "name": "stdout",
     "output_type": "stream",
     "text": [
      "          0          1          2          3         4          5         6   \\\n",
      "0  28.664296  22.773654  -2.722240 -10.418285  0.575011 -13.961912  1.175257   \n",
      "1   2.319230  -0.215516   4.773384  -9.349084 -0.232742  -8.850245  4.356014   \n",
      "2   1.069775   0.707861  14.249816  -4.919111 -0.901248  -1.846865  1.703515   \n",
      "3  16.767059   3.486702  -0.931995  -4.438482 -0.773530  -0.255601  0.565896   \n",
      "4  25.382732  21.015974  -0.824663  -1.703902  0.772776  -4.304147  5.542171   \n",
      "\n",
      "         7          8         9          10         11        12        13  \\\n",
      "0  3.190632  -4.793952  3.027988   0.678594  -3.784684 -0.404370  9.040973   \n",
      "1 -3.877479  13.333191 -6.019382  27.552473  32.072353 -3.922082  4.572665   \n",
      "2 -0.182339   3.665889 -4.124165   9.099867   9.497932 -3.356857  3.089577   \n",
      "3 -1.864440   0.065164  0.185903   6.662642   7.338529 -1.761464  2.164965   \n",
      "4  3.542666  -5.172079  6.364663  18.430392   6.643393  1.340190  8.795492   \n",
      "\n",
      "         14        15  \n",
      "0 -6.810474  0.057951  \n",
      "1 -0.673140 -2.256556  \n",
      "2 -0.152415  0.105059  \n",
      "3  1.044398 -3.032797  \n",
      "4 -2.379636  8.362682  \n",
      "\n",
      "Size: \n",
      "(15611, 16)\n"
     ]
    }
   ],
   "source": [
    "# Select 16 for the number of PCs\n",
    "pca = PCA(n_components=16)\n",
    "X_pca = pca.fit_transform(scaled_features)\n",
    "\n",
    "# Get the transformed dataset\n",
    "X_pca = pd.DataFrame(X_pca)\n",
    "print(X_pca.head())"
   ]
  },
  {
   "cell_type": "code",
   "execution_count": 235,
   "id": "48886fb9-ca8e-42f0-ba90-678f77f1330e",
   "metadata": {},
   "outputs": [],
   "source": [
    "#Splitting Principle Components into training and testing\n",
    "train_data_pca, test_data_pca, train_lbl, test_lbl = train_test_split(X_pca, cat_target, test_size=0.2, random_state=2)\n"
   ]
  },
  {
   "cell_type": "code",
   "execution_count": 236,
   "id": "b853d04b-9170-4fad-af6b-32f52def3a38",
   "metadata": {},
   "outputs": [
    {
     "data": {
      "text/plain": [
       "LogisticRegression()"
      ]
     },
     "execution_count": 236,
     "metadata": {},
     "output_type": "execute_result"
    }
   ],
   "source": [
    "# Initialize the logistic regression model\n",
    "logisticRegr = LogisticRegression(solver = 'lbfgs')\n",
    "\n",
    "# Train the Model\n",
    "logisticRegr.fit(train_data_pca, train_lbl)"
   ]
  },
  {
   "cell_type": "code",
   "execution_count": 237,
   "id": "bc80a95d-c419-43e0-96b5-f6f802a286d3",
   "metadata": {},
   "outputs": [
    {
     "name": "stdout",
     "output_type": "stream",
     "text": [
      "Train accuracy: 0.94\n",
      "Test accuracy: 0.94\n"
     ]
    }
   ],
   "source": [
    "# Make predictions\n",
    "y_pred = logisticRegr.predict(test_data_pca) # Predictions\n",
    "y_true = test_lbl # True values\n",
    "\n",
    "print(\"Train accuracy:\", np.round(accuracy_score(train_lbl, logisticRegr.predict(train_data_pca)), 2))\n",
    "print(\"Test accuracy:\", np.round(accuracy_score(y_true, y_pred), 2))"
   ]
  },
  {
   "cell_type": "code",
   "execution_count": 238,
   "id": "52af4eab-445b-4377-9ed8-6178544c44d3",
   "metadata": {},
   "outputs": [
    {
     "name": "stdout",
     "output_type": "stream",
     "text": [
      "\n",
      "Test confusion_matrix\n"
     ]
    },
    {
     "data": {
      "text/plain": [
       "Text(33.0, 0.5, 'True')"
      ]
     },
     "execution_count": 238,
     "metadata": {},
     "output_type": "execute_result"
    },
    {
     "data": {
      "image/png": "[encoded data removed]",
      "text/plain": [
       "<Figure size 432x288 with 2 Axes>"
      ]
     },
     "metadata": {
      "needs_background": "light"
     },
     "output_type": "display_data"
    }
   ],
   "source": [
    "# Make the confusion matrix\n",
    "cf_matrix = confusion_matrix(y_true, y_pred)\n",
    "print(\"\\nTest confusion_matrix\")\n",
    "sns.heatmap(cf_matrix, annot=True, cmap='Blues')\n",
    "plt.xlabel('Predicted', fontsize=12)\n",
    "plt.ylabel('True', fontsize=12)"
   ]
  },
  {
   "cell_type": "markdown",
   "id": "c77d8805-fb19-429d-ba75-4c5e1cde05b0",
   "metadata": {},
   "source": [
    "Using PCA for Logisitic Regression actually makes the acuracy even worse overall. Looking at the confusion matrix, the Logistic model didn't make any predictions for the middle tier. This is probably because it was by far the fewest number of donors in the original data set, so the PCA didn't prioritize this when selecting features. Since there was no elbow in the Skree plot, adding more PCs would increase the accuracy incrementally, but it could also lead to overfitting of the model.  "
   ]
  },
  {
   "cell_type": "markdown",
   "id": "4371ac18-e417-4758-8211-73c521b032ef",
   "metadata": {},
   "source": [
    "### USE PCA to develop Artificial Neural Network"
   ]
  },
  {
   "cell_type": "code",
   "execution_count": 270,
   "id": "cfa877fc-efb2-432c-a942-109e0549a8c4",
   "metadata": {},
   "outputs": [],
   "source": [
    "#gather up names of all the columns\n",
    "cols = X_pca.columns\n",
    "\n",
    "#set the prediction column and the feature columns for KNN\n",
    "prediction_col = 'Donor Tier'\n",
    "feature_cols = [c for c in cols if c != prediction_col]\n",
    "\n",
    "X = X_pca[feature_cols]\n",
    "y = outlier[prediction_col]\n",
    "\n",
    "#split the dataset into the train and test data\n",
    "x_train, x_test, y_train, y_test = train_test_split(X, y, test_size=0.2, random_state=41)"
   ]
  },
  {
   "cell_type": "code",
   "execution_count": 271,
   "id": "190c5e68-32a1-4da3-baae-264b5dd00215",
   "metadata": {},
   "outputs": [],
   "source": [
    "#Scaling data to ensure that they are uniformly evaluated\n",
    "scaler = StandardScaler()  \n",
    "scaler.fit(x_train)\n",
    "\n",
    "x_train = scaler.transform(x_train)  \n",
    "x_test = scaler.transform(x_test) "
   ]
  },
  {
   "cell_type": "code",
   "execution_count": 356,
   "id": "c81bff25-6b73-45fe-81f0-8afb6435180d",
   "metadata": {},
   "outputs": [],
   "source": [
    "from sklearn.neural_network import MLPClassifier  "
   ]
  },
  {
   "cell_type": "code",
   "execution_count": 248,
   "id": "f223f816-b716-49d0-91e6-ad01707d4947",
   "metadata": {},
   "outputs": [
    {
     "data": {
      "text/plain": [
       "MLPClassifier(hidden_layer_sizes=(10, 10, 10), max_iter=1000)"
      ]
     },
     "execution_count": 248,
     "metadata": {},
     "output_type": "execute_result"
    }
   ],
   "source": [
    "# Neural Network Algorithm\n",
    "mlp = MLPClassifier(hidden_layer_sizes=(10, 10, 10), max_iter=1000)  \n",
    "mlp.fit(x_train, y_train.values.ravel()) "
   ]
  },
  {
   "cell_type": "code",
   "execution_count": 249,
   "id": "f60fcefa-8b12-4358-840c-a55a4e9b111d",
   "metadata": {},
   "outputs": [],
   "source": [
    "# make predictions\n",
    "predictions = mlp.predict(x_test)  "
   ]
  },
  {
   "cell_type": "code",
   "execution_count": 250,
   "id": "47a9f1ea-ea73-4f8a-a1aa-afb5780cd463",
   "metadata": {},
   "outputs": [
    {
     "name": "stdout",
     "output_type": "stream",
     "text": [
      "              precision    recall  f1-score   support\n",
      "\n",
      "         $1+       0.96      0.99      0.97      2776\n",
      "    $10,000+       0.33      0.01      0.02        87\n",
      "    $25,000+       0.77      0.82      0.79       260\n",
      "\n",
      "    accuracy                           0.94      3123\n",
      "   macro avg       0.69      0.61      0.60      3123\n",
      "weighted avg       0.93      0.94      0.93      3123\n",
      "\n"
     ]
    }
   ],
   "source": [
    "# Display Accuracy of Model\n",
    "print(classification_report(y_test,predictions)) "
   ]
  },
  {
   "cell_type": "code",
   "execution_count": 246,
   "id": "5c150722-3d69-43c0-a46a-779279b72adf",
   "metadata": {},
   "outputs": [
    {
     "name": "stdout",
     "output_type": "stream",
     "text": [
      "Training set loss: 0.118919\n"
     ]
    },
    {
     "data": {
      "image/png": "[encoded data removed]",
      "text/plain": [
       "<Figure size 432x288 with 1 Axes>"
      ]
     },
     "metadata": {
      "needs_background": "light"
     },
     "output_type": "display_data"
    }
   ],
   "source": [
    "print(\"Training set loss: %f\" % mlp.loss_)\n",
    "\n",
    "#Plotting the Loss Curve\n",
    "plt.plot(mlp.loss_curve_)\n",
    "plt.title(\"Loss Curve\", fontsize=14)\n",
    "plt.xlabel('Iterations')\n",
    "plt.ylabel('Cost')\n",
    "plt.show()"
   ]
  },
  {
   "cell_type": "markdown",
   "id": "3c5ca3b5-637f-490f-a10d-848d1a3297ad",
   "metadata": {},
   "source": [
    "We can see that it only takes about 12 epochs for the model to signficantly improve. After that the loss curve did show improvements, but largely plataued. "
   ]
  },
  {
   "cell_type": "code",
   "execution_count": 361,
   "id": "ad88705d-6a34-4b3b-bf80-68783415ff0b",
   "metadata": {},
   "outputs": [
    {
     "data": {
      "text/plain": [
       "<matplotlib.axes._subplots.AxesSubplot at 0x1c5b06ce910>"
      ]
     },
     "execution_count": 361,
     "metadata": {},
     "output_type": "execute_result"
    },
    {
     "data": {
      "image/png": "[encoded data removed]",
      "text/plain": [
       "<Figure size 432x288 with 2 Axes>"
      ]
     },
     "metadata": {
      "needs_background": "light"
     },
     "output_type": "display_data"
    }
   ],
   "source": [
    "#Create confustion Matrix\n",
    "cm = confusion_matrix(y_test,predictions)\n",
    "sns.heatmap(cm, square=True, annot=True, fmt='d', cbar=True, cmap=\"YlGnBu\")"
   ]
  },
  {
   "cell_type": "code",
   "execution_count": null,
   "id": "82327d8a-0684-461f-85e0-1c20d1787719",
   "metadata": {},
   "outputs": [],
   "source": []
  },
  {
   "cell_type": "code",
   "execution_count": 286,
   "id": "70e70d16-7243-47d7-95fd-1489f98485eb",
   "metadata": {},
   "outputs": [],
   "source": [
    "#Setting the Target and Features\n",
    "X = scaled_features.values\n",
    "y = cat_target.values\n",
    "\n",
    "#Split into training and testing\n",
    "X_train, X_test, y_train, y_test = train_test_split(X, y, test_size=0.2, random_state=24)"
   ]
  },
  {
   "cell_type": "code",
   "execution_count": 287,
   "id": "6c71fbcc-67dd-4af2-b5e3-4557dd67be8a",
   "metadata": {},
   "outputs": [
    {
     "data": {
      "text/plain": [
       "KNeighborsClassifier(n_jobs=-1, n_neighbors=1)"
      ]
     },
     "execution_count": 287,
     "metadata": {},
     "output_type": "execute_result"
    }
   ],
   "source": [
    "#Setting KNN Classifier\n",
    "#define and fit our model\n",
    "model = KNeighborsClassifier(n_neighbors=1, n_jobs=-1)\n",
    "model.fit(X_train, y_train)"
   ]
  },
  {
   "cell_type": "code",
   "execution_count": 288,
   "id": "65987ddb-c827-4b46-aa95-23e5693de275",
   "metadata": {
    "tags": []
   },
   "outputs": [
    {
     "name": "stdout",
     "output_type": "stream",
     "text": [
      "              precision    recall  f1-score   support\n",
      "\n",
      "         $1+       0.96      0.97      0.97      2766\n",
      "    $10,000+       0.14      0.15      0.15        81\n",
      "    $25,000+       0.74      0.61      0.67       276\n",
      "\n",
      "    accuracy                           0.92      3123\n",
      "   macro avg       0.62      0.58      0.59      3123\n",
      "weighted avg       0.92      0.92      0.92      3123\n",
      "\n"
     ]
    }
   ],
   "source": [
    "# gather the predictations that our model made for our test set\n",
    "preds = model.predict(X_test)\n",
    "\n",
    "#Test the accuracy of the model when the k vlaue is 1\n",
    "print(classification_report(y_test, preds))"
   ]
  },
  {
   "cell_type": "code",
   "execution_count": 289,
   "id": "fcb8b237-1a50-41fe-b8ed-f5242d539d5c",
   "metadata": {},
   "outputs": [
    {
     "data": {
      "text/plain": [
       "[0.925392251040666,\n",
       " 0.9333973743195645,\n",
       " 0.9298751200768491,\n",
       " 0.9333973743195645,\n",
       " 0.9324367595260967,\n",
       " 0.9324367595260967,\n",
       " 0.9324367595260967,\n",
       " 0.9330771693884086,\n",
       " 0.9327569644572526,\n",
       " 0.9321165545949408,\n",
       " 0.9317963496637848,\n",
       " 0.9321165545949408,\n",
       " 0.9317963496637848,\n",
       " 0.9311559398014729,\n",
       " 0.9301953250080052,\n",
       " 0.9285943003522255,\n",
       " 0.9298751200768491,\n",
       " 0.9285943003522255,\n",
       " 0.9292347102145373]"
      ]
     },
     "execution_count": 289,
     "metadata": {},
     "output_type": "execute_result"
    }
   ],
   "source": [
    "# Create a for loop that will test the accuracy of each k value between 2 and 20, and an empty array to hold the accuracy rates. \n",
    "accuracy = []\n",
    "for k in range(2, 21):\n",
    "    # n_jobs=-1 will use all processors on your system\n",
    "    model = KNeighborsClassifier(n_neighbors=k, n_jobs=-1)\n",
    "    model.fit(X_train, y_train)\n",
    "    accuracy.append(model.score(X_test, y_test))\n",
    "\n",
    "# Display the accuracy rates\n",
    "accuracy"
   ]
  },
  {
   "cell_type": "code",
   "execution_count": 290,
   "id": "1d57efc6-c0ef-4aac-b590-13d42ecda3a7",
   "metadata": {},
   "outputs": [
    {
     "data": {
      "image/png": "[encoded data removed]",
      "text/plain": [
       "<Figure size 432x288 with 1 Axes>"
      ]
     },
     "metadata": {
      "needs_background": "light"
     },
     "output_type": "display_data"
    }
   ],
   "source": [
    "# display the results\n",
    "plt.plot(range(2, 21), accuracy)\n",
    "plt.scatter(range(2, 21), accuracy)\n",
    "plt.grid()\n",
    "_ =plt.xticks(range(2, 21))"
   ]
  },
  {
   "cell_type": "code",
   "execution_count": 296,
   "id": "7b26120e-4e4b-48d7-ad75-461016b734c5",
   "metadata": {},
   "outputs": [
    {
     "name": "stdout",
     "output_type": "stream",
     "text": [
      "              precision    recall  f1-score   support\n",
      "\n",
      "         $1+       0.95      0.99      0.97      2766\n",
      "    $10,000+       0.16      0.06      0.09        81\n",
      "    $25,000+       0.80      0.61      0.69       276\n",
      "\n",
      "    accuracy                           0.93      3123\n",
      "   macro avg       0.64      0.56      0.58      3123\n",
      "weighted avg       0.92      0.93      0.92      3123\n",
      "\n"
     ]
    }
   ],
   "source": [
    "#Creating a KNN model with k value beign 3\n",
    "model_3 = KNeighborsClassifier(n_neighbors=3, n_jobs=-1)\n",
    "model_3.fit(X_train, y_train)\n",
    "\n",
    "# gather the predictations that our model made for our test set\n",
    "preds_3 = model_3.predict(X_test)\n",
    "print(classification_report(y_test, preds_3))\n"
   ]
  },
  {
   "cell_type": "code",
   "execution_count": null,
   "id": "9accd416-0a89-40b4-a8c8-9badd84688cc",
   "metadata": {},
   "outputs": [],
   "source": []
  },
  {
   "cell_type": "code",
   "execution_count": 300,
   "id": "81813622-2782-4c09-a6ac-5480e73642c9",
   "metadata": {},
   "outputs": [],
   "source": [
    "#Setting the Target and Features\n",
    "X = scaled_features.values\n",
    "y = cat_target.values\n",
    "\n",
    "#Split into training and testing\n",
    "X2_train, X2_test, y2_train, y2_test = train_test_split(X, y, test_size=0.2, random_state=36)"
   ]
  },
  {
   "cell_type": "code",
   "execution_count": 301,
   "id": "90f0cf2c-05a6-46fb-bb21-f5abc3e1ca18",
   "metadata": {},
   "outputs": [
    {
     "data": {
      "text/plain": [
       "[0.925392251040666,\n",
       " 0.9356388088376562,\n",
       " 0.9327569644572526,\n",
       " 0.9375600384245918,\n",
       " 0.936279218699968,\n",
       " 0.9372398334934358,\n",
       " 0.9365994236311239,\n",
       " 0.9369196285622798,\n",
       " 0.9372398334934358,\n",
       " 0.9385206532180596,\n",
       " 0.9356388088376562,\n",
       " 0.936279218699968,\n",
       " 0.9353186039065001,\n",
       " 0.9346781940441883,\n",
       " 0.9346781940441883,\n",
       " 0.9343579891130324,\n",
       " 0.9343579891130324,\n",
       " 0.9343579891130324,\n",
       " 0.9330771693884086]"
      ]
     },
     "execution_count": 301,
     "metadata": {},
     "output_type": "execute_result"
    }
   ],
   "source": [
    "#Creating MinMax Object and then transforming the feature values to be between '0' and '1'\n",
    "mm = preprocessing.MinMaxScaler()\n",
    "X2_train = mm.fit_transform(X2_train)\n",
    "X2_test = mm.transform(X2_test)\n",
    "\n",
    "# Create a for loop that will test the accuracy of each k value between 2 and 20, and an empty array to hold the accuracy rates. \n",
    "accuracy2 = []\n",
    "for k in range(2, 21):\n",
    "    # n_jobs=-1 will use all processors on your system\n",
    "    model = KNeighborsClassifier(n_neighbors=k, n_jobs=-1)\n",
    "    model.fit(X2_train, y2_train)\n",
    "    accuracy2.append(model.score(X2_test, y2_test))\n",
    "\n",
    "# Display the accuracy rates\n",
    "accuracy2"
   ]
  },
  {
   "cell_type": "code",
   "execution_count": 302,
   "id": "611ee375-4c77-474f-8889-e63b6bd30095",
   "metadata": {},
   "outputs": [
    {
     "data": {
      "image/png": "[encoded data removed]",
      "text/plain": [
       "<Figure size 432x288 with 1 Axes>"
      ]
     },
     "metadata": {
      "needs_background": "light"
     },
     "output_type": "display_data"
    }
   ],
   "source": [
    "# display the results\n",
    "plt.plot(range(2, 21), accuracy2)\n",
    "plt.scatter(range(2, 21), accuracy2)\n",
    "plt.grid()\n",
    "_ =plt.xticks(range(2, 21))"
   ]
  },
  {
   "cell_type": "markdown",
   "id": "39e9316e-5932-488f-8a96-0baeb8fee8e5",
   "metadata": {},
   "source": [
    "Both 5 clusters and 11 clusters have similar accuracy. While 11 is a bit better, I will choose 5 clusters to help avoid overfitting the model"
   ]
  },
  {
   "cell_type": "code",
   "execution_count": 317,
   "id": "0da28cf7-0db2-4e53-8cc3-e244faea1138",
   "metadata": {},
   "outputs": [
    {
     "name": "stdout",
     "output_type": "stream",
     "text": [
      "              precision    recall  f1-score   support\n",
      "\n",
      "         $1+       0.95      0.99      0.97      2754\n",
      "    $10,000+       0.22      0.06      0.09        69\n",
      "    $25,000+       0.86      0.65      0.74       300\n",
      "\n",
      "    accuracy                           0.94      3123\n",
      "   macro avg       0.68      0.57      0.60      3123\n",
      "weighted avg       0.92      0.94      0.93      3123\n",
      "\n"
     ]
    }
   ],
   "source": [
    "#Creating a KNN model with k value beign 5\n",
    "model_11 = KNeighborsClassifier(n_neighbors=5, n_jobs=-1)\n",
    "model_11.fit(X2_train, y2_train)\n",
    "\n",
    "# gather the predictations that our model made for our test set\n",
    "preds_11 = model_11.predict(X2_test)\n",
    "print(classification_report(y2_test, preds_11))"
   ]
  },
  {
   "cell_type": "code",
   "execution_count": null,
   "id": "ad5741fc-8bda-405a-8de8-53444d8fc5fe",
   "metadata": {},
   "outputs": [],
   "source": []
  },
  {
   "cell_type": "code",
   "execution_count": 318,
   "id": "f57263ef-1b5d-4a75-b1d7-83f3a39ddbfe",
   "metadata": {},
   "outputs": [
    {
     "data": {
      "image/png": "[encoded data removed]",
      "text/plain": [
       "<Figure size 432x288 with 1 Axes>"
      ]
     },
     "metadata": {
      "needs_background": "light"
     },
     "output_type": "display_data"
    }
   ],
   "source": [
    "#Load Data\n",
    "data = scaled_data\n",
    "pca = PCA(2)\n",
    "\n",
    "#Transform the data\n",
    "df = pca.fit_transform(data)\n",
    "\n",
    "#Import KMeans module\n",
    "from sklearn.cluster import KMeans\n",
    "\n",
    "#Initialize the class object\n",
    "kmeans = KMeans(n_clusters= 5)\n",
    "\n",
    "#predict the labels of clusters.\n",
    "label = kmeans.fit_predict(df)\n",
    "\n",
    "#Getting unique labels\n",
    "centroids = kmeans.cluster_centers_\n",
    "u_labels = np.unique(label)\n",
    "\n",
    "#plotting the results:\n",
    "for i in u_labels:\n",
    "    plt.scatter(df[label == i , 0] , df[label == i , 1] , label = i)\n",
    "plt.scatter(centroids[:,0] , centroids[:,1] , s = 80, color = 'k')\n",
    "plt.legend()\n",
    "plt.show()"
   ]
  },
  {
   "cell_type": "code",
   "execution_count": null,
   "id": "a7eeac1e-faeb-4501-a749-566edb7343d6",
   "metadata": {},
   "outputs": [],
   "source": []
  },
  {
   "cell_type": "code",
   "execution_count": null,
   "id": "75227467-9b1e-4089-a309-d6e1711dfd44",
   "metadata": {},
   "outputs": [],
   "source": []
  },
  {
   "cell_type": "code",
   "execution_count": null,
   "id": "3e0266de-33a4-4e7d-967c-6189151ddbd6",
   "metadata": {},
   "outputs": [],
   "source": []
  },
  {
   "cell_type": "code",
   "execution_count": null,
   "id": "41dd868a-c42a-4c44-9cda-9496df76a470",
   "metadata": {},
   "outputs": [],
   "source": []
  },
  {
   "cell_type": "code",
   "execution_count": null,
   "id": "46e307b7-49e0-4f35-a545-2c29e95c288c",
   "metadata": {},
   "outputs": [],
   "source": []
  },
  {
   "cell_type": "code",
   "execution_count": null,
   "id": "cda42049-18e0-4135-8983-80fe0a8a89a6",
   "metadata": {},
   "outputs": [],
   "source": []
  },
  {
   "cell_type": "code",
   "execution_count": null,
   "id": "06ad646f-1001-4785-b32c-23ca4ac5bc8e",
   "metadata": {},
   "outputs": [],
   "source": []
  }
 ],
 "metadata": {
  "kernelspec": {
   "display_name": "Python 3 (ipykernel)",
   "language": "python",
   "name": "python3"
  },
  "language_info": {
   "codemirror_mode": {
    "name": "ipython",
    "version": 3
   },
   "file_extension": ".py",
   "mimetype": "text/x-python",
   "name": "python",
   "nbconvert_exporter": "python",
   "pygments_lexer": "ipython3",
   "version": "3.8.8"
  }
 },
 "nbformat": 4,
 "nbformat_minor": 5
}
